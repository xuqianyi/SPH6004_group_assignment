{
  "cells": [
    {
      "cell_type": "code",
      "execution_count": null,
      "metadata": {
        "id": "crWx0vbNBEz1"
      },
      "outputs": [],
      "source": [
        "import torch\n",
        "from transformers import BertTokenizer, BertModel\n",
        "import logging\n",
        "import pandas as pd\n",
        "import numpy as np\n",
        "import random\n",
        "from sklearn.decomposition import PCA\n",
        "from sklearn.preprocessing import StandardScaler\n",
        "import matplotlib.pyplot as plt\n",
        "%matplotlib inline"
      ]
    },
    {
      "cell_type": "markdown",
      "metadata": {
        "id": "4r9tqAv2CbDT"
      },
      "source": [
        "## Loding data"
      ]
    },
    {
      "cell_type": "code",
      "execution_count": null,
      "metadata": {
        "colab": {
          "base_uri": "https://localhost:8080/",
          "height": 241
        },
        "id": "6IrBt4h8_pVe",
        "outputId": "965792f6-166f-433c-9b55-fb5aa91a1990"
      },
      "outputs": [],
      "source": [
        "notes = pd.read_csv('notes.csv')[['id', 'text']]\n",
        "print(f'shape of the notes file: {notes.shape}')\n",
        "n_sub = len(pd.unique(notes['id']))\n",
        "print(f'unique number of subjects: {n_sub}')\n",
        "notes.head()"
      ]
    },
    {
      "cell_type": "code",
      "execution_count": null,
      "metadata": {
        "colab": {
          "base_uri": "https://localhost:8080/"
        },
        "id": "hkgmBunIw5_T",
        "outputId": "f123bc53-97fd-42a8-957b-5a92c17f300f"
      },
      "outputs": [],
      "source": [
        "# distribution of how many notes each subject has\n",
        "notes['id'].value_counts().describe()"
      ]
    },
    {
      "cell_type": "code",
      "execution_count": null,
      "metadata": {
        "colab": {
          "base_uri": "https://localhost:8080/",
          "height": 206
        },
        "id": "qe6vCe4W7Eyn",
        "outputId": "cd17f8ea-75a1-4ec1-f884-5f33ebc7858f"
      },
      "outputs": [],
      "source": [
        "notes['text'] = notes['text'].str.replace(\"___\", \"\")\n",
        "notes['text'] = notes['text'].str.lower()\n",
        "notes.head()"
      ]
    },
    {
      "cell_type": "markdown",
      "metadata": {},
      "source": [
        "### loading essential functions"
      ]
    },
    {
      "cell_type": "code",
      "execution_count": null,
      "metadata": {
        "id": "tFVlraq2CpAV"
      },
      "outputs": [],
      "source": [
        "def token_distribution(df, model_name):\n",
        "  # load tokenizer\n",
        "  tokenizer = BertTokenizer.from_pretrained(model_name)\n",
        "  tokenized = df['text'].apply((lambda x: tokenizer.encode(x, add_special_tokens=True)))\n",
        "\n",
        "  # investigate token\n",
        "  rand_id = random.randint(0, len(tokenized)-1)\n",
        "  print(f'random id: {rand_id}')\n",
        "  print(df['text'][rand_id])\n",
        "  print(tokenizer.convert_ids_to_tokens(tokenized[rand_id]))\n",
        "  print(f'length of the token: {len(tokenized[rand_id])}')\n",
        "\n",
        "\n",
        "  # visualize token distribution\n",
        "  max_len = 0\n",
        "  n = 0\n",
        "  len_ls = tokenized.apply(lambda x: len(x))\n",
        "  for i in tokenized.values:\n",
        "    if len(i) > 512:\n",
        "      n+=1\n",
        "    if len(i) > max_len:\n",
        "        max_len = len(i)\n",
        "  print(f'maximum lenght is {max_len}')\n",
        "  print(f'{n} out of {df.shape[0]} ({n/df.shape[0]*100} %) notes exceed the maximum embedding length of 512')\n",
        "\n",
        "  print(len_ls.describe())\n",
        "  ax = len_ls.plot.box()\n",
        "  plt.axhline(y=512, color='r', linestyle='--')\n",
        "  plt.show()\n",
        "\n",
        "\n",
        "def obtain_batch_embedding(df, model_name):\n",
        "\n",
        "  # load tokenizer\n",
        "  tokenizer = BertTokenizer.from_pretrained(model_name)\n",
        "  tokenizer.truncation_side='left' # truncate from left to preserve more findings\n",
        "\n",
        "  # obtain token id and attention mask\n",
        "  input_ids = []\n",
        "  attention_masks = []\n",
        "  for t in df['text']:\n",
        "    encoded_dict = tokenizer.encode_plus(t,\n",
        "                                        add_special_tokens=True,\n",
        "                                        max_length=512,\n",
        "                                        padding='max_length',\n",
        "                                        return_attention_mask=True,\n",
        "                                        return_tensors='pt',\n",
        "                                        truncation=True)\n",
        "    input_ids.append(encoded_dict['input_ids'].to(device))\n",
        "    attention_masks.append(encoded_dict['attention_mask'].to(device))\n",
        "\n",
        "  # convert to tensor\n",
        "  input_ids = torch.cat(input_ids, dim=0)\n",
        "  attention_masks = torch.cat(attention_masks, dim=0)\n",
        "  print(\"tokens obtained, start fitting model\")\n",
        "\n",
        "  # fit model\n",
        "  model = BertModel.from_pretrained(model_name)\n",
        "  model = model.to(device)\n",
        "  with torch.no_grad():\n",
        "    last_hidden_states = model(input_ids, attention_mask=attention_masks)\n",
        "\n",
        "  features = pd.DataFrame(last_hidden_states[0][:,0,:].cpu().numpy())\n",
        "  features.reset_index(drop=True, inplace=True)\n",
        "  # print(df['id'].shape, features.shape)\n",
        "\n",
        "  # concatenate the id column\n",
        "  res = pd.concat([df['id'].reset_index(drop=True), features], axis=1, ignore_index=True)\n",
        "  print(res.shape)\n",
        "\n",
        "  # take mean value of the embeddings for each individual\n",
        "  # res = features.groupby('id').mean()\n",
        "\n",
        "  return res\n",
        "\n",
        "def embedding(df, model_name, batch_size=256):\n",
        "\n",
        "  # loop through batches\n",
        "  embeddings = pd.DataFrame()\n",
        "  for i in range(0, df.shape[0], batch_size):\n",
        "    print(f'batch from {i}th to {i+batch_size}th sample')\n",
        "    batch = df.iloc[i:i+batch_size]\n",
        "    batch_embedding = obtain_batch_embedding(batch, model_name)\n",
        "    embeddings = pd.concat([embeddings, batch_embedding], axis=0)\n",
        "\n",
        "  return embeddings\n"
      ]
    },
    {
      "cell_type": "code",
      "execution_count": null,
      "metadata": {},
      "outputs": [],
      "source": [
        "notes['id'].reset_index(drop=True).head()"
      ]
    },
    {
      "cell_type": "markdown",
      "metadata": {},
      "source": [
        "### set up device"
      ]
    },
    {
      "cell_type": "code",
      "execution_count": null,
      "metadata": {},
      "outputs": [],
      "source": [
        "device = 'cuda:0' if torch.cuda.is_available() else 'cpu'\n",
        "device"
      ]
    },
    {
      "cell_type": "markdown",
      "metadata": {},
      "source": [
        "### generating embedding"
      ]
    },
    {
      "cell_type": "code",
      "execution_count": null,
      "metadata": {
        "id": "UbTNPVf3pp0b"
      },
      "outputs": [],
      "source": [
        "# to investigate the distribution of the tokens\n",
        "# token_distribution(notes, \"neuml/pubmedbert-base-embeddings\")\n",
        "token_distribution(notes, \"microsoft/BiomedNLP-BiomedBERT-base-uncased-abstract-fulltext\")\n"
      ]
    },
    {
      "cell_type": "code",
      "execution_count": null,
      "metadata": {
        "colab": {
          "base_uri": "https://localhost:8080/",
          "height": 1000,
          "referenced_widgets": [
            "512d5b4784e1448bbd51542a5ac76533",
            "09ce4c5e822445098eb77414b27a437c",
            "c7dee6020f174d7eb9b308e75de8430e",
            "ffb540dfc46b4503b9a1bf06368fffa6",
            "2f0be7dc36734becb862adc8c698d4a8",
            "728681d36d404e4ea79c0410f7831f4d",
            "4b78b62a760045e597417f9f0559b8ad",
            "56f710846b8d4351b4f598afea5ebc0b",
            "a847a16f3085463d8000b97e451a59bc",
            "e93c20dfceec45fc9be4723b673e2b64",
            "322f68c193d64c3f92cb352ccdd73278",
            "40dd26682bd44b9d8de3600829967513",
            "2c02f0c35f144c369ae20fbd5760efc4",
            "88780721d2d24779aced35c045e4fc28",
            "2a4ab2707b264a21b7796e4e28bcb1e4",
            "5ecd8a83fc4b48fd8290fe60ec5815b9",
            "f52d6876a46a4cc1b212cf04928581ba",
            "d8710dbf87824f9c9a5488de9c468879",
            "823c739b4a2a482a9515b6a4b90683bd",
            "8f9347d60d1b45b0b9614f27d18d3214",
            "f187031af28543359c9f514a4e6b999b",
            "5b0f8197398f411c88643e2476ad504d"
          ]
        },
        "id": "KiEXnG9iuqO4",
        "outputId": "04af4f6e-4fc8-4aa8-df68-b8a56aad0b21"
      },
      "outputs": [],
      "source": [
        "# obtain embeddings\n",
        "# res = embedding(notes, \"neuml/pubmedbert-base-embeddings\")\n",
        "res = embedding(notes, \"microsoft/BiomedNLP-BiomedBERT-base-uncased-abstract-fulltext\")\n",
        "print(res.shape)\n",
        "res.head()"
      ]
    },
    {
      "cell_type": "code",
      "execution_count": null,
      "metadata": {},
      "outputs": [],
      "source": [
        "res.to_csv('pubmedbert_embedding_full.csv', index=False)"
      ]
    },
    {
      "cell_type": "markdown",
      "metadata": {},
      "source": [
        "## Embedding aggregation\n",
        "1. average\n",
        "2. max pooling\n",
        "3. randomly select one"
      ]
    },
    {
      "cell_type": "code",
      "execution_count": null,
      "metadata": {},
      "outputs": [],
      "source": [
        "embedding = pd.read_csv(\"./pubmedbert_embedding_full.csv\")\n",
        "embedding.rename(columns={'0': 'id'}, inplace=True)\n",
        "print(embedding.shape)\n",
        "embedding.head()"
      ]
    },
    {
      "cell_type": "code",
      "execution_count": null,
      "metadata": {},
      "outputs": [],
      "source": [
        "def avg(df):\n",
        "    res = df.groupby('id').mean().reset_index()\n",
        "    return res\n",
        "\n",
        "def max_pooling(df):\n",
        "    res = df.groupby('id').max().reset_index()\n",
        "    return res\n",
        "\n",
        "def return_random_note(rows, rand_n):\n",
        "    # rows = df[df['id']==id]\n",
        "    # print(rows.shape, rand_n)\n",
        "    res = pd.DataFrame(rows.iloc[rand_n]).T\n",
        "    return res\n",
        "\n",
        "def random_sample(df):\n",
        "    # obtain count of notes for each id\n",
        "    N = df.groupby('id').size().to_frame().reset_index()\n",
        "    N.rename(columns={0: 'count'}, inplace=True)\n",
        "\n",
        "    # generate a random number for each id\n",
        "    N['rand'] = N.apply(lambda x: np.random.randint(0, x['count']), axis=1)\n",
        "\n",
        "    # obtain random note for each id\n",
        "    res = pd.DataFrame()\n",
        "    count = 0\n",
        "    id_ls = pd.unique(df['id'])\n",
        "    res_ls = []\n",
        "    for id in id_ls:\n",
        "        rand_n = N[N['id']==id]['rand'].iloc[0]\n",
        "        rows = df[df['id']==id]\n",
        "        selected = return_random_note(rows, rand_n)\n",
        "        # res = pd.concat([res, selected], ignore_index=True)\n",
        "        res_ls.append(selected)\n",
        "\n",
        "        count += 1\n",
        "        if count % 500 == 0:\n",
        "            print(f\"{count} unique ids finished\")\n",
        "\n",
        "    res = pd.concat(res_ls)\n",
        "    return res"
      ]
    },
    {
      "cell_type": "code",
      "execution_count": null,
      "metadata": {},
      "outputs": [],
      "source": [
        "pubmed_avg = avg(embedding)\n",
        "print(pubmed_avg.shape)\n",
        "pubmed_avg.to_csv(\"pubmed_avg_full.csv\", index=False)# "
      ]
    },
    {
      "cell_type": "code",
      "execution_count": null,
      "metadata": {},
      "outputs": [],
      "source": [
        "pubmed_max = max_pooling(embedding)\n",
        "print(pubmed_max.shape)\n",
        "pubmed_max.to_csv(\"pubmed_max_full.csv\", index=False)"
      ]
    },
    {
      "cell_type": "code",
      "execution_count": null,
      "metadata": {},
      "outputs": [],
      "source": [
        "del pubmed_avg\n",
        "del pubmed_max"
      ]
    },
    {
      "cell_type": "code",
      "execution_count": null,
      "metadata": {},
      "outputs": [],
      "source": [
        "pd.unique(embedding['id']).shape"
      ]
    },
    {
      "cell_type": "code",
      "execution_count": null,
      "metadata": {},
      "outputs": [],
      "source": [
        "embedding.columns"
      ]
    },
    {
      "cell_type": "code",
      "execution_count": null,
      "metadata": {},
      "outputs": [],
      "source": [
        "pubmed_rand = random_sample(embedding)\n",
        "print(pubmed_rand.shape)\n",
        "pubmed_rand.head()\n",
        "pubmed_rand.to_csv(\"pubmed_rand_full.csv\", index=False)"
      ]
    },
    {
      "cell_type": "code",
      "execution_count": null,
      "metadata": {},
      "outputs": [],
      "source": [
        "pubmed_rand.to_csv(\"pubmed_rand_full.csv\", index=False)"
      ]
    },
    {
      "cell_type": "markdown",
      "metadata": {},
      "source": [
        "## PCA for dimensionality reduction"
      ]
    },
    {
      "cell_type": "code",
      "execution_count": null,
      "metadata": {},
      "outputs": [],
      "source": [
        "def pca(df, percent):\n",
        "    ids = df['id']\n",
        "    features = df.iloc[:, 1:]\n",
        "\n",
        "    scaler = StandardScaler()\n",
        "    features_scaled = scaler.fit_transform(features)\n",
        "\n",
        "    pca = PCA(n_components=percent, svd_solver = 'full')\n",
        "    pca.fit(features_scaled)\n",
        "    features_pca = pd.DataFrame(pca.transform(features_scaled))\n",
        "\n",
        "    res = pd.concat([ids, features_pca], axis=1)\n",
        "\n",
        "    print(res.shape)\n",
        "    return res"
      ]
    },
    {
      "cell_type": "code",
      "execution_count": null,
      "metadata": {},
      "outputs": [],
      "source": [
        "df = pd.read_csv('pubmed_avg_full.csv')\n",
        "print(df.shape)\n",
        "df.head()"
      ]
    },
    {
      "cell_type": "code",
      "execution_count": null,
      "metadata": {},
      "outputs": [],
      "source": [
        "res = pca(df, 0.90)\n",
        "res.to_csv(\"pubmed_avg_full_pca.csv\", index=False)"
      ]
    },
    {
      "cell_type": "code",
      "execution_count": null,
      "metadata": {},
      "outputs": [],
      "source": [
        "df = pd.read_csv('pubmed_max_full.csv')\n",
        "print(df.shape)\n",
        "df.head()"
      ]
    },
    {
      "cell_type": "code",
      "execution_count": null,
      "metadata": {},
      "outputs": [],
      "source": [
        "res = pca(df, 0.90)\n",
        "res.to_csv(\"pubmed_max_full_pca.csv\", index=False)"
      ]
    },
    {
      "cell_type": "code",
      "execution_count": null,
      "metadata": {},
      "outputs": [],
      "source": [
        "df = pd.read_csv('pubmed_rand_full.csv')\n",
        "print(df.shape)\n",
        "df.head()"
      ]
    },
    {
      "cell_type": "code",
      "execution_count": null,
      "metadata": {},
      "outputs": [],
      "source": [
        "res = pca(df, 0.90)\n",
        "res.to_csv(\"pubmed_rand_full_pca.csv\", index=False)"
      ]
    },
    {
      "cell_type": "code",
      "execution_count": null,
      "metadata": {},
      "outputs": [],
      "source": []
    }
  ],
  "metadata": {
    "accelerator": "GPU",
    "colab": {
      "gpuType": "T4",
      "provenance": []
    },
    "kernelspec": {
      "display_name": "Python 3",
      "name": "python3"
    },
    "language_info": {
      "codemirror_mode": {
        "name": "ipython",
        "version": 3
      },
      "file_extension": ".py",
      "mimetype": "text/x-python",
      "name": "python",
      "nbconvert_exporter": "python",
      "pygments_lexer": "ipython3",
      "version": "3.10.12"
    },
    "widgets": {
      "application/vnd.jupyter.widget-state+json": {
        "09ce4c5e822445098eb77414b27a437c": {
          "model_module": "@jupyter-widgets/controls",
          "model_module_version": "1.5.0",
          "model_name": "HTMLModel",
          "state": {
            "_dom_classes": [],
            "_model_module": "@jupyter-widgets/controls",
            "_model_module_version": "1.5.0",
            "_model_name": "HTMLModel",
            "_view_count": null,
            "_view_module": "@jupyter-widgets/controls",
            "_view_module_version": "1.5.0",
            "_view_name": "HTMLView",
            "description": "",
            "description_tooltip": null,
            "layout": "IPY_MODEL_728681d36d404e4ea79c0410f7831f4d",
            "placeholder": "​",
            "style": "IPY_MODEL_4b78b62a760045e597417f9f0559b8ad",
            "value": "config.json: 100%"
          }
        },
        "2a4ab2707b264a21b7796e4e28bcb1e4": {
          "model_module": "@jupyter-widgets/controls",
          "model_module_version": "1.5.0",
          "model_name": "HTMLModel",
          "state": {
            "_dom_classes": [],
            "_model_module": "@jupyter-widgets/controls",
            "_model_module_version": "1.5.0",
            "_model_name": "HTMLModel",
            "_view_count": null,
            "_view_module": "@jupyter-widgets/controls",
            "_view_module_version": "1.5.0",
            "_view_name": "HTMLView",
            "description": "",
            "description_tooltip": null,
            "layout": "IPY_MODEL_f187031af28543359c9f514a4e6b999b",
            "placeholder": "​",
            "style": "IPY_MODEL_5b0f8197398f411c88643e2476ad504d",
            "value": " 438M/438M [00:01&lt;00:00, 291MB/s]"
          }
        },
        "2c02f0c35f144c369ae20fbd5760efc4": {
          "model_module": "@jupyter-widgets/controls",
          "model_module_version": "1.5.0",
          "model_name": "HTMLModel",
          "state": {
            "_dom_classes": [],
            "_model_module": "@jupyter-widgets/controls",
            "_model_module_version": "1.5.0",
            "_model_name": "HTMLModel",
            "_view_count": null,
            "_view_module": "@jupyter-widgets/controls",
            "_view_module_version": "1.5.0",
            "_view_name": "HTMLView",
            "description": "",
            "description_tooltip": null,
            "layout": "IPY_MODEL_f52d6876a46a4cc1b212cf04928581ba",
            "placeholder": "​",
            "style": "IPY_MODEL_d8710dbf87824f9c9a5488de9c468879",
            "value": "pytorch_model.bin: 100%"
          }
        },
        "2f0be7dc36734becb862adc8c698d4a8": {
          "model_module": "@jupyter-widgets/base",
          "model_module_version": "1.2.0",
          "model_name": "LayoutModel",
          "state": {
            "_model_module": "@jupyter-widgets/base",
            "_model_module_version": "1.2.0",
            "_model_name": "LayoutModel",
            "_view_count": null,
            "_view_module": "@jupyter-widgets/base",
            "_view_module_version": "1.2.0",
            "_view_name": "LayoutView",
            "align_content": null,
            "align_items": null,
            "align_self": null,
            "border": null,
            "bottom": null,
            "display": null,
            "flex": null,
            "flex_flow": null,
            "grid_area": null,
            "grid_auto_columns": null,
            "grid_auto_flow": null,
            "grid_auto_rows": null,
            "grid_column": null,
            "grid_gap": null,
            "grid_row": null,
            "grid_template_areas": null,
            "grid_template_columns": null,
            "grid_template_rows": null,
            "height": null,
            "justify_content": null,
            "justify_items": null,
            "left": null,
            "margin": null,
            "max_height": null,
            "max_width": null,
            "min_height": null,
            "min_width": null,
            "object_fit": null,
            "object_position": null,
            "order": null,
            "overflow": null,
            "overflow_x": null,
            "overflow_y": null,
            "padding": null,
            "right": null,
            "top": null,
            "visibility": null,
            "width": null
          }
        },
        "322f68c193d64c3f92cb352ccdd73278": {
          "model_module": "@jupyter-widgets/controls",
          "model_module_version": "1.5.0",
          "model_name": "DescriptionStyleModel",
          "state": {
            "_model_module": "@jupyter-widgets/controls",
            "_model_module_version": "1.5.0",
            "_model_name": "DescriptionStyleModel",
            "_view_count": null,
            "_view_module": "@jupyter-widgets/base",
            "_view_module_version": "1.2.0",
            "_view_name": "StyleView",
            "description_width": ""
          }
        },
        "40dd26682bd44b9d8de3600829967513": {
          "model_module": "@jupyter-widgets/controls",
          "model_module_version": "1.5.0",
          "model_name": "HBoxModel",
          "state": {
            "_dom_classes": [],
            "_model_module": "@jupyter-widgets/controls",
            "_model_module_version": "1.5.0",
            "_model_name": "HBoxModel",
            "_view_count": null,
            "_view_module": "@jupyter-widgets/controls",
            "_view_module_version": "1.5.0",
            "_view_name": "HBoxView",
            "box_style": "",
            "children": [
              "IPY_MODEL_2c02f0c35f144c369ae20fbd5760efc4",
              "IPY_MODEL_88780721d2d24779aced35c045e4fc28",
              "IPY_MODEL_2a4ab2707b264a21b7796e4e28bcb1e4"
            ],
            "layout": "IPY_MODEL_5ecd8a83fc4b48fd8290fe60ec5815b9"
          }
        },
        "4b78b62a760045e597417f9f0559b8ad": {
          "model_module": "@jupyter-widgets/controls",
          "model_module_version": "1.5.0",
          "model_name": "DescriptionStyleModel",
          "state": {
            "_model_module": "@jupyter-widgets/controls",
            "_model_module_version": "1.5.0",
            "_model_name": "DescriptionStyleModel",
            "_view_count": null,
            "_view_module": "@jupyter-widgets/base",
            "_view_module_version": "1.2.0",
            "_view_name": "StyleView",
            "description_width": ""
          }
        },
        "512d5b4784e1448bbd51542a5ac76533": {
          "model_module": "@jupyter-widgets/controls",
          "model_module_version": "1.5.0",
          "model_name": "HBoxModel",
          "state": {
            "_dom_classes": [],
            "_model_module": "@jupyter-widgets/controls",
            "_model_module_version": "1.5.0",
            "_model_name": "HBoxModel",
            "_view_count": null,
            "_view_module": "@jupyter-widgets/controls",
            "_view_module_version": "1.5.0",
            "_view_name": "HBoxView",
            "box_style": "",
            "children": [
              "IPY_MODEL_09ce4c5e822445098eb77414b27a437c",
              "IPY_MODEL_c7dee6020f174d7eb9b308e75de8430e",
              "IPY_MODEL_ffb540dfc46b4503b9a1bf06368fffa6"
            ],
            "layout": "IPY_MODEL_2f0be7dc36734becb862adc8c698d4a8"
          }
        },
        "56f710846b8d4351b4f598afea5ebc0b": {
          "model_module": "@jupyter-widgets/base",
          "model_module_version": "1.2.0",
          "model_name": "LayoutModel",
          "state": {
            "_model_module": "@jupyter-widgets/base",
            "_model_module_version": "1.2.0",
            "_model_name": "LayoutModel",
            "_view_count": null,
            "_view_module": "@jupyter-widgets/base",
            "_view_module_version": "1.2.0",
            "_view_name": "LayoutView",
            "align_content": null,
            "align_items": null,
            "align_self": null,
            "border": null,
            "bottom": null,
            "display": null,
            "flex": null,
            "flex_flow": null,
            "grid_area": null,
            "grid_auto_columns": null,
            "grid_auto_flow": null,
            "grid_auto_rows": null,
            "grid_column": null,
            "grid_gap": null,
            "grid_row": null,
            "grid_template_areas": null,
            "grid_template_columns": null,
            "grid_template_rows": null,
            "height": null,
            "justify_content": null,
            "justify_items": null,
            "left": null,
            "margin": null,
            "max_height": null,
            "max_width": null,
            "min_height": null,
            "min_width": null,
            "object_fit": null,
            "object_position": null,
            "order": null,
            "overflow": null,
            "overflow_x": null,
            "overflow_y": null,
            "padding": null,
            "right": null,
            "top": null,
            "visibility": null,
            "width": null
          }
        },
        "5b0f8197398f411c88643e2476ad504d": {
          "model_module": "@jupyter-widgets/controls",
          "model_module_version": "1.5.0",
          "model_name": "DescriptionStyleModel",
          "state": {
            "_model_module": "@jupyter-widgets/controls",
            "_model_module_version": "1.5.0",
            "_model_name": "DescriptionStyleModel",
            "_view_count": null,
            "_view_module": "@jupyter-widgets/base",
            "_view_module_version": "1.2.0",
            "_view_name": "StyleView",
            "description_width": ""
          }
        },
        "5ecd8a83fc4b48fd8290fe60ec5815b9": {
          "model_module": "@jupyter-widgets/base",
          "model_module_version": "1.2.0",
          "model_name": "LayoutModel",
          "state": {
            "_model_module": "@jupyter-widgets/base",
            "_model_module_version": "1.2.0",
            "_model_name": "LayoutModel",
            "_view_count": null,
            "_view_module": "@jupyter-widgets/base",
            "_view_module_version": "1.2.0",
            "_view_name": "LayoutView",
            "align_content": null,
            "align_items": null,
            "align_self": null,
            "border": null,
            "bottom": null,
            "display": null,
            "flex": null,
            "flex_flow": null,
            "grid_area": null,
            "grid_auto_columns": null,
            "grid_auto_flow": null,
            "grid_auto_rows": null,
            "grid_column": null,
            "grid_gap": null,
            "grid_row": null,
            "grid_template_areas": null,
            "grid_template_columns": null,
            "grid_template_rows": null,
            "height": null,
            "justify_content": null,
            "justify_items": null,
            "left": null,
            "margin": null,
            "max_height": null,
            "max_width": null,
            "min_height": null,
            "min_width": null,
            "object_fit": null,
            "object_position": null,
            "order": null,
            "overflow": null,
            "overflow_x": null,
            "overflow_y": null,
            "padding": null,
            "right": null,
            "top": null,
            "visibility": null,
            "width": null
          }
        },
        "728681d36d404e4ea79c0410f7831f4d": {
          "model_module": "@jupyter-widgets/base",
          "model_module_version": "1.2.0",
          "model_name": "LayoutModel",
          "state": {
            "_model_module": "@jupyter-widgets/base",
            "_model_module_version": "1.2.0",
            "_model_name": "LayoutModel",
            "_view_count": null,
            "_view_module": "@jupyter-widgets/base",
            "_view_module_version": "1.2.0",
            "_view_name": "LayoutView",
            "align_content": null,
            "align_items": null,
            "align_self": null,
            "border": null,
            "bottom": null,
            "display": null,
            "flex": null,
            "flex_flow": null,
            "grid_area": null,
            "grid_auto_columns": null,
            "grid_auto_flow": null,
            "grid_auto_rows": null,
            "grid_column": null,
            "grid_gap": null,
            "grid_row": null,
            "grid_template_areas": null,
            "grid_template_columns": null,
            "grid_template_rows": null,
            "height": null,
            "justify_content": null,
            "justify_items": null,
            "left": null,
            "margin": null,
            "max_height": null,
            "max_width": null,
            "min_height": null,
            "min_width": null,
            "object_fit": null,
            "object_position": null,
            "order": null,
            "overflow": null,
            "overflow_x": null,
            "overflow_y": null,
            "padding": null,
            "right": null,
            "top": null,
            "visibility": null,
            "width": null
          }
        },
        "823c739b4a2a482a9515b6a4b90683bd": {
          "model_module": "@jupyter-widgets/base",
          "model_module_version": "1.2.0",
          "model_name": "LayoutModel",
          "state": {
            "_model_module": "@jupyter-widgets/base",
            "_model_module_version": "1.2.0",
            "_model_name": "LayoutModel",
            "_view_count": null,
            "_view_module": "@jupyter-widgets/base",
            "_view_module_version": "1.2.0",
            "_view_name": "LayoutView",
            "align_content": null,
            "align_items": null,
            "align_self": null,
            "border": null,
            "bottom": null,
            "display": null,
            "flex": null,
            "flex_flow": null,
            "grid_area": null,
            "grid_auto_columns": null,
            "grid_auto_flow": null,
            "grid_auto_rows": null,
            "grid_column": null,
            "grid_gap": null,
            "grid_row": null,
            "grid_template_areas": null,
            "grid_template_columns": null,
            "grid_template_rows": null,
            "height": null,
            "justify_content": null,
            "justify_items": null,
            "left": null,
            "margin": null,
            "max_height": null,
            "max_width": null,
            "min_height": null,
            "min_width": null,
            "object_fit": null,
            "object_position": null,
            "order": null,
            "overflow": null,
            "overflow_x": null,
            "overflow_y": null,
            "padding": null,
            "right": null,
            "top": null,
            "visibility": null,
            "width": null
          }
        },
        "88780721d2d24779aced35c045e4fc28": {
          "model_module": "@jupyter-widgets/controls",
          "model_module_version": "1.5.0",
          "model_name": "FloatProgressModel",
          "state": {
            "_dom_classes": [],
            "_model_module": "@jupyter-widgets/controls",
            "_model_module_version": "1.5.0",
            "_model_name": "FloatProgressModel",
            "_view_count": null,
            "_view_module": "@jupyter-widgets/controls",
            "_view_module_version": "1.5.0",
            "_view_name": "ProgressView",
            "bar_style": "success",
            "description": "",
            "description_tooltip": null,
            "layout": "IPY_MODEL_823c739b4a2a482a9515b6a4b90683bd",
            "max": 437995689,
            "min": 0,
            "orientation": "horizontal",
            "style": "IPY_MODEL_8f9347d60d1b45b0b9614f27d18d3214",
            "value": 437995689
          }
        },
        "8f9347d60d1b45b0b9614f27d18d3214": {
          "model_module": "@jupyter-widgets/controls",
          "model_module_version": "1.5.0",
          "model_name": "ProgressStyleModel",
          "state": {
            "_model_module": "@jupyter-widgets/controls",
            "_model_module_version": "1.5.0",
            "_model_name": "ProgressStyleModel",
            "_view_count": null,
            "_view_module": "@jupyter-widgets/base",
            "_view_module_version": "1.2.0",
            "_view_name": "StyleView",
            "bar_color": null,
            "description_width": ""
          }
        },
        "a847a16f3085463d8000b97e451a59bc": {
          "model_module": "@jupyter-widgets/controls",
          "model_module_version": "1.5.0",
          "model_name": "ProgressStyleModel",
          "state": {
            "_model_module": "@jupyter-widgets/controls",
            "_model_module_version": "1.5.0",
            "_model_name": "ProgressStyleModel",
            "_view_count": null,
            "_view_module": "@jupyter-widgets/base",
            "_view_module_version": "1.2.0",
            "_view_name": "StyleView",
            "bar_color": null,
            "description_width": ""
          }
        },
        "c7dee6020f174d7eb9b308e75de8430e": {
          "model_module": "@jupyter-widgets/controls",
          "model_module_version": "1.5.0",
          "model_name": "FloatProgressModel",
          "state": {
            "_dom_classes": [],
            "_model_module": "@jupyter-widgets/controls",
            "_model_module_version": "1.5.0",
            "_model_name": "FloatProgressModel",
            "_view_count": null,
            "_view_module": "@jupyter-widgets/controls",
            "_view_module_version": "1.5.0",
            "_view_name": "ProgressView",
            "bar_style": "success",
            "description": "",
            "description_tooltip": null,
            "layout": "IPY_MODEL_56f710846b8d4351b4f598afea5ebc0b",
            "max": 667,
            "min": 0,
            "orientation": "horizontal",
            "style": "IPY_MODEL_a847a16f3085463d8000b97e451a59bc",
            "value": 667
          }
        },
        "d8710dbf87824f9c9a5488de9c468879": {
          "model_module": "@jupyter-widgets/controls",
          "model_module_version": "1.5.0",
          "model_name": "DescriptionStyleModel",
          "state": {
            "_model_module": "@jupyter-widgets/controls",
            "_model_module_version": "1.5.0",
            "_model_name": "DescriptionStyleModel",
            "_view_count": null,
            "_view_module": "@jupyter-widgets/base",
            "_view_module_version": "1.2.0",
            "_view_name": "StyleView",
            "description_width": ""
          }
        },
        "e93c20dfceec45fc9be4723b673e2b64": {
          "model_module": "@jupyter-widgets/base",
          "model_module_version": "1.2.0",
          "model_name": "LayoutModel",
          "state": {
            "_model_module": "@jupyter-widgets/base",
            "_model_module_version": "1.2.0",
            "_model_name": "LayoutModel",
            "_view_count": null,
            "_view_module": "@jupyter-widgets/base",
            "_view_module_version": "1.2.0",
            "_view_name": "LayoutView",
            "align_content": null,
            "align_items": null,
            "align_self": null,
            "border": null,
            "bottom": null,
            "display": null,
            "flex": null,
            "flex_flow": null,
            "grid_area": null,
            "grid_auto_columns": null,
            "grid_auto_flow": null,
            "grid_auto_rows": null,
            "grid_column": null,
            "grid_gap": null,
            "grid_row": null,
            "grid_template_areas": null,
            "grid_template_columns": null,
            "grid_template_rows": null,
            "height": null,
            "justify_content": null,
            "justify_items": null,
            "left": null,
            "margin": null,
            "max_height": null,
            "max_width": null,
            "min_height": null,
            "min_width": null,
            "object_fit": null,
            "object_position": null,
            "order": null,
            "overflow": null,
            "overflow_x": null,
            "overflow_y": null,
            "padding": null,
            "right": null,
            "top": null,
            "visibility": null,
            "width": null
          }
        },
        "f187031af28543359c9f514a4e6b999b": {
          "model_module": "@jupyter-widgets/base",
          "model_module_version": "1.2.0",
          "model_name": "LayoutModel",
          "state": {
            "_model_module": "@jupyter-widgets/base",
            "_model_module_version": "1.2.0",
            "_model_name": "LayoutModel",
            "_view_count": null,
            "_view_module": "@jupyter-widgets/base",
            "_view_module_version": "1.2.0",
            "_view_name": "LayoutView",
            "align_content": null,
            "align_items": null,
            "align_self": null,
            "border": null,
            "bottom": null,
            "display": null,
            "flex": null,
            "flex_flow": null,
            "grid_area": null,
            "grid_auto_columns": null,
            "grid_auto_flow": null,
            "grid_auto_rows": null,
            "grid_column": null,
            "grid_gap": null,
            "grid_row": null,
            "grid_template_areas": null,
            "grid_template_columns": null,
            "grid_template_rows": null,
            "height": null,
            "justify_content": null,
            "justify_items": null,
            "left": null,
            "margin": null,
            "max_height": null,
            "max_width": null,
            "min_height": null,
            "min_width": null,
            "object_fit": null,
            "object_position": null,
            "order": null,
            "overflow": null,
            "overflow_x": null,
            "overflow_y": null,
            "padding": null,
            "right": null,
            "top": null,
            "visibility": null,
            "width": null
          }
        },
        "f52d6876a46a4cc1b212cf04928581ba": {
          "model_module": "@jupyter-widgets/base",
          "model_module_version": "1.2.0",
          "model_name": "LayoutModel",
          "state": {
            "_model_module": "@jupyter-widgets/base",
            "_model_module_version": "1.2.0",
            "_model_name": "LayoutModel",
            "_view_count": null,
            "_view_module": "@jupyter-widgets/base",
            "_view_module_version": "1.2.0",
            "_view_name": "LayoutView",
            "align_content": null,
            "align_items": null,
            "align_self": null,
            "border": null,
            "bottom": null,
            "display": null,
            "flex": null,
            "flex_flow": null,
            "grid_area": null,
            "grid_auto_columns": null,
            "grid_auto_flow": null,
            "grid_auto_rows": null,
            "grid_column": null,
            "grid_gap": null,
            "grid_row": null,
            "grid_template_areas": null,
            "grid_template_columns": null,
            "grid_template_rows": null,
            "height": null,
            "justify_content": null,
            "justify_items": null,
            "left": null,
            "margin": null,
            "max_height": null,
            "max_width": null,
            "min_height": null,
            "min_width": null,
            "object_fit": null,
            "object_position": null,
            "order": null,
            "overflow": null,
            "overflow_x": null,
            "overflow_y": null,
            "padding": null,
            "right": null,
            "top": null,
            "visibility": null,
            "width": null
          }
        },
        "ffb540dfc46b4503b9a1bf06368fffa6": {
          "model_module": "@jupyter-widgets/controls",
          "model_module_version": "1.5.0",
          "model_name": "HTMLModel",
          "state": {
            "_dom_classes": [],
            "_model_module": "@jupyter-widgets/controls",
            "_model_module_version": "1.5.0",
            "_model_name": "HTMLModel",
            "_view_count": null,
            "_view_module": "@jupyter-widgets/controls",
            "_view_module_version": "1.5.0",
            "_view_name": "HTMLView",
            "description": "",
            "description_tooltip": null,
            "layout": "IPY_MODEL_e93c20dfceec45fc9be4723b673e2b64",
            "placeholder": "​",
            "style": "IPY_MODEL_322f68c193d64c3f92cb352ccdd73278",
            "value": " 667/667 [00:00&lt;00:00, 8.83kB/s]"
          }
        }
      }
    }
  },
  "nbformat": 4,
  "nbformat_minor": 0
}
