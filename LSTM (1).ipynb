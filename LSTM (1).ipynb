{
  "cells": [
    {
      "cell_type": "code",
      "execution_count": null,
      "metadata": {
        "id": "n2UwteouJUWG"
      },
      "outputs": [],
      "source": [
        "import torch\n",
        "import torch.optim as optim\n",
        "import torch.nn as nn\n",
        "import torch.nn.functional as F\n",
        "from torch.utils.data import DataLoader\n",
        "from torch.utils.data import Dataset\n",
        "import pandas as pd\n",
        "import matplotlib.pyplot as plt\n",
        "import seaborn as sns\n",
        "import numpy as np\n",
        "import random\n",
        "from sklearn.model_selection import train_test_split, GridSearchCV, StratifiedKFold, KFold, cross_val_score\n",
        "from sklearn.metrics import accuracy_score, mean_squared_error\n",
        "from sklearn.ensemble import RandomForestClassifier, RandomForestRegressor\n",
        "from xgboost import XGBRegressor, XGBClassifier\n",
        "from tqdm.auto import tqdm\n",
        "import os"
      ]
    },
    {
      "cell_type": "code",
      "source": [
        "from google.colab import drive\n",
        "drive.mount('/content/drive')"
      ],
      "metadata": {
        "colab": {
          "base_uri": "https://localhost:8080/"
        },
        "id": "NTje4iQ6xpYi",
        "outputId": "a202583f-55b4-4a20-cc4e-e9b61318acf1"
      },
      "execution_count": null,
      "outputs": [
        {
          "output_type": "stream",
          "name": "stdout",
          "text": [
            "Drive already mounted at /content/drive; to attempt to forcibly remount, call drive.mount(\"/content/drive\", force_remount=True).\n"
          ]
        }
      ]
    },
    {
      "cell_type": "code",
      "source": [
        "#Load dataset\n",
        "from google.colab import drive\n",
        "drive.mount('/content/drive')\n",
        "\n",
        "file_path = '/content/drive/My Drive/6004/project 2/code'"
      ],
      "metadata": {
        "colab": {
          "base_uri": "https://localhost:8080/"
        },
        "id": "Xv8nY2kBxqo9",
        "outputId": "c0988422-a55e-4171-ee69-6306a48b8a29"
      },
      "execution_count": null,
      "outputs": [
        {
          "output_type": "stream",
          "name": "stdout",
          "text": [
            "Drive already mounted at /content/drive; to attempt to forcibly remount, call drive.mount(\"/content/drive\", force_remount=True).\n"
          ]
        }
      ]
    },
    {
      "cell_type": "markdown",
      "metadata": {
        "id": "UfIaqwU4u7FO"
      },
      "source": [
        "## Settings\n",
        "\n"
      ]
    },
    {
      "cell_type": "code",
      "execution_count": null,
      "metadata": {
        "id": "DPZVdfjqCiYE"
      },
      "outputs": [],
      "source": [
        "class icuDataset(Dataset):\n",
        "  def __init__(self, x, y):\n",
        "    super(icuDataset, self).__init__()\n",
        "    # store the raw tensors\n",
        "    self._x = x\n",
        "    self._y = y\n",
        "\n",
        "  def __len__(self):\n",
        "    # size of Dataset\n",
        "    return self._x.shape[0]\n",
        "\n",
        "  def __getitem__(self, idx):\n",
        "    if torch.is_tensor(idx):\n",
        "      idx = idx.tolist()\n",
        "\n",
        "    x = self._x[idx, :]\n",
        "    y = self._y[idx]\n",
        "    return x, y"
      ]
    },
    {
      "cell_type": "code",
      "execution_count": null,
      "metadata": {
        "id": "ZkmQ0dGSJUWH"
      },
      "outputs": [],
      "source": [
        "def save_checkpoints(encoder, decoder, opt, checkpoint_path):\n",
        "    save_dict = {}\n",
        "    save_dict.update({'encoder': encoder.state_dict()})\n",
        "    save_dict.update({'decoder': decoder.state_dict()})\n",
        "    save_dict.update({'opt': opt.state_dict()})\n",
        "    torch.save(save_dict, checkpoint_path)\n",
        "\n",
        "def load_checkpoints(encoder, decoder, opt, checkpoint_path):\n",
        "    ckpt = torch.load(checkpoint_path)\n",
        "    encoder.load_state_dict(ckpt['encoder'])\n",
        "    decoder.load_state_dict(ckpt['decoder'])\n",
        "    opt.load_state_dict(ckpt['opt'])"
      ]
    },
    {
      "cell_type": "code",
      "execution_count": null,
      "metadata": {
        "id": "REDzJAVtJUWI"
      },
      "outputs": [],
      "source": [
        "def cal_accuracy(y_pred, y_true):\n",
        "    y_pred_rounded = torch.round(y_pred)\n",
        "    correct = (y_pred_rounded == y_true).float()\n",
        "    accuracy = correct.sum() / len(correct)\n",
        "    return accuracy"
      ]
    },
    {
      "cell_type": "code",
      "execution_count": null,
      "metadata": {
        "id": "zgu4vzgDJUWH"
      },
      "outputs": [],
      "source": [
        "# parameters\n",
        "\n",
        "# datasets after preprocessing\n",
        "file_path = '/content/drive/My Drive/6004/project2/code/clean_regres.csv'\n",
        "data_2 = pd.read_csv(file_path)\n",
        "\n",
        "# pre-defined global parameters\n",
        "seed = 123\n",
        "learning_rate = 0.001\n",
        "num_epochs = 200\n",
        "device = \"cuda\" if torch.cuda.is_available() else \"cpu\"\n",
        "\n",
        "log_dir = 'models/'\n",
        "if not os.path.exists(log_dir):\n",
        "    os.makedirs(log_dir)\n",
        "\n",
        "# set seeds\n",
        "np.random.seed(seed)\n",
        "random.seed(seed)\n",
        "torch.manual_seed(seed)\n",
        "if torch.cuda.is_available():\n",
        "    torch.cuda.manual_seed_all(seed)"
      ]
    },
    {
      "cell_type": "markdown",
      "metadata": {
        "id": "hppawehpEs19"
      },
      "source": [
        "\n",
        "## ICU duration (continuous) without death/discharge classification"
      ]
    },
    {
      "cell_type": "code",
      "execution_count": null,
      "metadata": {
        "id": "Gn3EdxvST4Uu"
      },
      "outputs": [],
      "source": [
        "y0 = torch.tensor(data_2['los_icu'], dtype = torch.float32)\n",
        "X0 = torch.tensor(data_2.iloc[:, 3:].values, dtype = torch.float32)\n",
        "\n",
        "X0_train, X0_test, y0_train, y0_test = train_test_split(X0, y0, test_size = 0.2, random_state = seed)\n",
        "\n",
        "train_data_0 = icuDataset(X0_train, y0_train)\n",
        "test_data_0 = icuDataset(X0_test, y0_test)\n",
        "\n",
        "train_loader_0 = DataLoader(train_data_0, batch_size = 128, shuffle = True)\n",
        "test_loader_0 = DataLoader(test_data_0, batch_size = 128, shuffle = False)"
      ]
    },
    {
      "cell_type": "markdown",
      "metadata": {
        "id": "W9mDKc14FmPz"
      },
      "source": [
        "### Neural network (Linear encoder)"
      ]
    },
    {
      "cell_type": "code",
      "execution_count": 208,
      "metadata": {
        "id": "aGgyi6yswXo9"
      },
      "outputs": [],
      "source": [
        "# baseline network\n",
        "class BaseRegressor(nn.Module):\n",
        "    def __init__(self):\n",
        "        super(BaseRegressor, self).__init__()\n",
        "        self.fc_b1 = nn.Linear(65, 32)\n",
        "        self.fc_b2 = nn.Linear(32, 1)\n",
        "\n",
        "    def forward(self, x):\n",
        "        x = F.relu(self.fc_b1(x))\n",
        "        x = F.relu(self.fc_b2(x))\n",
        "        return x"
      ]
    },
    {
      "cell_type": "code",
      "execution_count": 209,
      "metadata": {
        "id": "Iss-q08KFBJ-"
      },
      "outputs": [],
      "source": [
        "br = BaseRegressor().to(device)\n",
        "\n",
        "# loss function\n",
        "loss_func = torch.nn.MSELoss()\n",
        "\n",
        "# optimizer\n",
        "opt = optim.SGD(list(br.parameters()), lr = 0.0001, momentum = 0.9, weight_decay = 5e-4)"
      ]
    },
    {
      "cell_type": "code",
      "source": [
        "def regression_accuracy(output, target, threshold=0.1):\n",
        "    \"\"\" Calculate \"accuracy\" for regression within a certain threshold percentage. \"\"\"\n",
        "    with torch.no_grad():\n",
        "        # Calculate the absolute difference\n",
        "        difference = torch.abs(output - target)\n",
        "        # Check if the difference is within the threshold * target\n",
        "        correct = (difference < threshold * torch.abs(target)).float()\n",
        "        # Calculate accuracy as the mean of correct predictions\n",
        "        accuracy = 100 * correct.mean()\n",
        "    return accuracy.item()\n",
        "\n",
        "# Define threshold percentage for \"correctness\"\n",
        "threshold = 0.1\n",
        "\n",
        "accuracy = regression_accuracy(pred, y0_train, threshold)\n",
        "print(f'Regression Accuracy (within {threshold*100}%): {accuracy:.2f}%')\n"
      ],
      "metadata": {
        "colab": {
          "base_uri": "https://localhost:8080/"
        },
        "id": "D4r5fKKUSize",
        "outputId": "e7adb954-03c0-44b9-dd27-5937075eda33"
      },
      "execution_count": 210,
      "outputs": [
        {
          "output_type": "stream",
          "name": "stdout",
          "text": [
            "Regression Accuracy (within 10.0%): 8.68%\n"
          ]
        }
      ]
    },
    {
      "cell_type": "code",
      "source": [
        "\n",
        "# Define threshold percentage for \"correctness\"\n",
        "threshold = 0.1\n",
        "\n",
        "# Initialize lists to store loss and accuracy data\n",
        "br_train_loss = []\n",
        "br_train_accuracy = []\n",
        "\n",
        "# Training loop\n",
        "for epoch in range(1, num_epochs + 1):\n",
        "    br.train()\n",
        "    loss_list = []\n",
        "    accuracy_list = []\n",
        "\n",
        "    for x, y in tqdm(train_loader_0, desc=f\"Training Epoch #{epoch}\"):\n",
        "        x, y = x.to(device), y.to(device)\n",
        "\n",
        "        opt.zero_grad()  # Zero the gradients to prevent accumulation\n",
        "        pred = br(x)\n",
        "        loss = loss_func(pred.squeeze(), y)  # Calculate loss\n",
        "\n",
        "        loss.backward()  # Backpropagate the errors\n",
        "        opt.step()\n",
        "\n",
        "        loss_list.append(loss.item())  # Append the current batch's loss\n",
        "\n",
        "        # Calculate accuracy for the current batch and append\n",
        "        accuracy = regression_accuracy(pred, y, threshold)\n",
        "        accuracy_list.append(accuracy)\n",
        "\n",
        "    # Compute the average loss and accuracy for the epoch\n",
        "    epoch_loss = sum(loss_list) / len(loss_list)\n",
        "    epoch_accuracy = sum(accuracy_list) / len(accuracy_list)\n",
        "\n",
        "    # Append average loss and accuracy to their respective lists\n",
        "    br_train_loss.append(epoch_loss)\n",
        "    br_train_accuracy.append(epoch_accuracy)\n",
        "\n",
        "\n",
        "    print(f\"Epoch {epoch}: Avg Loss = {epoch_loss:.4f}, Avg Accuracy = {epoch_accuracy:.2f}%\")\n"
      ],
      "metadata": {
        "colab": {
          "base_uri": "https://localhost:8080/"
        },
        "id": "1pHFwyB3TXvu",
        "outputId": "69733c60-8b41-46b7-d4ad-b5017ee23a78"
      },
      "execution_count": 211,
      "outputs": [
        {
          "output_type": "stream",
          "name": "stderr",
          "text": [
            "Training Epoch #1: 100%|██████████| 120/120 [00:00<00:00, 373.91it/s]\n"
          ]
        },
        {
          "output_type": "stream",
          "name": "stdout",
          "text": [
            "Epoch 1: Avg Loss = 15.6770, Avg Accuracy = 4.32%\n"
          ]
        },
        {
          "output_type": "stream",
          "name": "stderr",
          "text": [
            "Training Epoch #2: 100%|██████████| 120/120 [00:00<00:00, 396.07it/s]\n"
          ]
        },
        {
          "output_type": "stream",
          "name": "stdout",
          "text": [
            "Epoch 2: Avg Loss = 8.7938, Avg Accuracy = 9.82%\n"
          ]
        },
        {
          "output_type": "stream",
          "name": "stderr",
          "text": [
            "Training Epoch #3: 100%|██████████| 120/120 [00:00<00:00, 369.02it/s]\n"
          ]
        },
        {
          "output_type": "stream",
          "name": "stdout",
          "text": [
            "Epoch 3: Avg Loss = 8.0264, Avg Accuracy = 8.98%\n"
          ]
        },
        {
          "output_type": "stream",
          "name": "stderr",
          "text": [
            "Training Epoch #4: 100%|██████████| 120/120 [00:00<00:00, 379.38it/s]\n"
          ]
        },
        {
          "output_type": "stream",
          "name": "stdout",
          "text": [
            "Epoch 4: Avg Loss = 7.9180, Avg Accuracy = 8.94%\n"
          ]
        },
        {
          "output_type": "stream",
          "name": "stderr",
          "text": [
            "Training Epoch #5: 100%|██████████| 120/120 [00:00<00:00, 375.01it/s]\n"
          ]
        },
        {
          "output_type": "stream",
          "name": "stdout",
          "text": [
            "Epoch 5: Avg Loss = 7.8558, Avg Accuracy = 8.89%\n"
          ]
        },
        {
          "output_type": "stream",
          "name": "stderr",
          "text": [
            "Training Epoch #6: 100%|██████████| 120/120 [00:00<00:00, 361.77it/s]\n"
          ]
        },
        {
          "output_type": "stream",
          "name": "stdout",
          "text": [
            "Epoch 6: Avg Loss = 7.8138, Avg Accuracy = 8.88%\n"
          ]
        },
        {
          "output_type": "stream",
          "name": "stderr",
          "text": [
            "Training Epoch #7: 100%|██████████| 120/120 [00:00<00:00, 368.53it/s]\n"
          ]
        },
        {
          "output_type": "stream",
          "name": "stdout",
          "text": [
            "Epoch 7: Avg Loss = 7.7829, Avg Accuracy = 8.89%\n"
          ]
        },
        {
          "output_type": "stream",
          "name": "stderr",
          "text": [
            "Training Epoch #8: 100%|██████████| 120/120 [00:00<00:00, 379.92it/s]\n"
          ]
        },
        {
          "output_type": "stream",
          "name": "stdout",
          "text": [
            "Epoch 8: Avg Loss = 7.7593, Avg Accuracy = 8.86%\n"
          ]
        },
        {
          "output_type": "stream",
          "name": "stderr",
          "text": [
            "Training Epoch #9: 100%|██████████| 120/120 [00:00<00:00, 354.19it/s]\n"
          ]
        },
        {
          "output_type": "stream",
          "name": "stdout",
          "text": [
            "Epoch 9: Avg Loss = 7.7387, Avg Accuracy = 8.87%\n"
          ]
        },
        {
          "output_type": "stream",
          "name": "stderr",
          "text": [
            "Training Epoch #10: 100%|██████████| 120/120 [00:00<00:00, 332.85it/s]\n"
          ]
        },
        {
          "output_type": "stream",
          "name": "stdout",
          "text": [
            "Epoch 10: Avg Loss = 7.7224, Avg Accuracy = 8.88%\n"
          ]
        },
        {
          "output_type": "stream",
          "name": "stderr",
          "text": [
            "Training Epoch #11: 100%|██████████| 120/120 [00:00<00:00, 237.37it/s]\n"
          ]
        },
        {
          "output_type": "stream",
          "name": "stdout",
          "text": [
            "Epoch 11: Avg Loss = 7.7068, Avg Accuracy = 8.84%\n"
          ]
        },
        {
          "output_type": "stream",
          "name": "stderr",
          "text": [
            "Training Epoch #12: 100%|██████████| 120/120 [00:00<00:00, 217.35it/s]\n"
          ]
        },
        {
          "output_type": "stream",
          "name": "stdout",
          "text": [
            "Epoch 12: Avg Loss = 7.6948, Avg Accuracy = 8.87%\n"
          ]
        },
        {
          "output_type": "stream",
          "name": "stderr",
          "text": [
            "Training Epoch #13: 100%|██████████| 120/120 [00:01<00:00, 107.37it/s]\n"
          ]
        },
        {
          "output_type": "stream",
          "name": "stdout",
          "text": [
            "Epoch 13: Avg Loss = 7.6824, Avg Accuracy = 8.88%\n"
          ]
        },
        {
          "output_type": "stream",
          "name": "stderr",
          "text": [
            "Training Epoch #14: 100%|██████████| 120/120 [00:00<00:00, 233.07it/s]\n"
          ]
        },
        {
          "output_type": "stream",
          "name": "stdout",
          "text": [
            "Epoch 14: Avg Loss = 7.6709, Avg Accuracy = 8.84%\n"
          ]
        },
        {
          "output_type": "stream",
          "name": "stderr",
          "text": [
            "Training Epoch #15: 100%|██████████| 120/120 [00:00<00:00, 241.54it/s]\n"
          ]
        },
        {
          "output_type": "stream",
          "name": "stdout",
          "text": [
            "Epoch 15: Avg Loss = 7.6609, Avg Accuracy = 8.84%\n"
          ]
        },
        {
          "output_type": "stream",
          "name": "stderr",
          "text": [
            "Training Epoch #16: 100%|██████████| 120/120 [00:00<00:00, 219.72it/s]\n"
          ]
        },
        {
          "output_type": "stream",
          "name": "stdout",
          "text": [
            "Epoch 16: Avg Loss = 7.6517, Avg Accuracy = 8.88%\n"
          ]
        },
        {
          "output_type": "stream",
          "name": "stderr",
          "text": [
            "Training Epoch #17: 100%|██████████| 120/120 [00:00<00:00, 249.48it/s]\n"
          ]
        },
        {
          "output_type": "stream",
          "name": "stdout",
          "text": [
            "Epoch 17: Avg Loss = 7.6441, Avg Accuracy = 8.88%\n"
          ]
        },
        {
          "output_type": "stream",
          "name": "stderr",
          "text": [
            "Training Epoch #18: 100%|██████████| 120/120 [00:00<00:00, 380.15it/s]\n"
          ]
        },
        {
          "output_type": "stream",
          "name": "stdout",
          "text": [
            "Epoch 18: Avg Loss = 7.6365, Avg Accuracy = 8.83%\n"
          ]
        },
        {
          "output_type": "stream",
          "name": "stderr",
          "text": [
            "Training Epoch #19: 100%|██████████| 120/120 [00:00<00:00, 357.20it/s]\n"
          ]
        },
        {
          "output_type": "stream",
          "name": "stdout",
          "text": [
            "Epoch 19: Avg Loss = 7.6280, Avg Accuracy = 8.83%\n"
          ]
        },
        {
          "output_type": "stream",
          "name": "stderr",
          "text": [
            "Training Epoch #20: 100%|██████████| 120/120 [00:00<00:00, 368.74it/s]\n"
          ]
        },
        {
          "output_type": "stream",
          "name": "stdout",
          "text": [
            "Epoch 20: Avg Loss = 7.6219, Avg Accuracy = 8.87%\n"
          ]
        },
        {
          "output_type": "stream",
          "name": "stderr",
          "text": [
            "Training Epoch #21: 100%|██████████| 120/120 [00:00<00:00, 375.67it/s]\n"
          ]
        },
        {
          "output_type": "stream",
          "name": "stdout",
          "text": [
            "Epoch 21: Avg Loss = 7.6161, Avg Accuracy = 8.85%\n"
          ]
        },
        {
          "output_type": "stream",
          "name": "stderr",
          "text": [
            "Training Epoch #22: 100%|██████████| 120/120 [00:00<00:00, 352.97it/s]\n"
          ]
        },
        {
          "output_type": "stream",
          "name": "stdout",
          "text": [
            "Epoch 22: Avg Loss = 7.6096, Avg Accuracy = 8.85%\n"
          ]
        },
        {
          "output_type": "stream",
          "name": "stderr",
          "text": [
            "Training Epoch #23: 100%|██████████| 120/120 [00:00<00:00, 371.50it/s]\n"
          ]
        },
        {
          "output_type": "stream",
          "name": "stdout",
          "text": [
            "Epoch 23: Avg Loss = 7.6028, Avg Accuracy = 8.88%\n"
          ]
        },
        {
          "output_type": "stream",
          "name": "stderr",
          "text": [
            "Training Epoch #24: 100%|██████████| 120/120 [00:00<00:00, 381.73it/s]\n"
          ]
        },
        {
          "output_type": "stream",
          "name": "stdout",
          "text": [
            "Epoch 24: Avg Loss = 7.5995, Avg Accuracy = 8.84%\n"
          ]
        },
        {
          "output_type": "stream",
          "name": "stderr",
          "text": [
            "Training Epoch #25: 100%|██████████| 120/120 [00:00<00:00, 364.19it/s]\n"
          ]
        },
        {
          "output_type": "stream",
          "name": "stdout",
          "text": [
            "Epoch 25: Avg Loss = 7.5930, Avg Accuracy = 8.88%\n"
          ]
        },
        {
          "output_type": "stream",
          "name": "stderr",
          "text": [
            "Training Epoch #26: 100%|██████████| 120/120 [00:00<00:00, 374.34it/s]\n"
          ]
        },
        {
          "output_type": "stream",
          "name": "stdout",
          "text": [
            "Epoch 26: Avg Loss = 7.5883, Avg Accuracy = 8.85%\n"
          ]
        },
        {
          "output_type": "stream",
          "name": "stderr",
          "text": [
            "Training Epoch #27: 100%|██████████| 120/120 [00:00<00:00, 385.93it/s]\n"
          ]
        },
        {
          "output_type": "stream",
          "name": "stdout",
          "text": [
            "Epoch 27: Avg Loss = 7.5829, Avg Accuracy = 8.87%\n"
          ]
        },
        {
          "output_type": "stream",
          "name": "stderr",
          "text": [
            "Training Epoch #28: 100%|██████████| 120/120 [00:00<00:00, 367.47it/s]\n"
          ]
        },
        {
          "output_type": "stream",
          "name": "stdout",
          "text": [
            "Epoch 28: Avg Loss = 7.5787, Avg Accuracy = 8.86%\n"
          ]
        },
        {
          "output_type": "stream",
          "name": "stderr",
          "text": [
            "Training Epoch #29: 100%|██████████| 120/120 [00:00<00:00, 370.48it/s]\n"
          ]
        },
        {
          "output_type": "stream",
          "name": "stdout",
          "text": [
            "Epoch 29: Avg Loss = 7.5735, Avg Accuracy = 8.85%\n"
          ]
        },
        {
          "output_type": "stream",
          "name": "stderr",
          "text": [
            "Training Epoch #30: 100%|██████████| 120/120 [00:00<00:00, 365.83it/s]\n"
          ]
        },
        {
          "output_type": "stream",
          "name": "stdout",
          "text": [
            "Epoch 30: Avg Loss = 7.5693, Avg Accuracy = 8.84%\n"
          ]
        },
        {
          "output_type": "stream",
          "name": "stderr",
          "text": [
            "Training Epoch #31: 100%|██████████| 120/120 [00:00<00:00, 347.98it/s]\n"
          ]
        },
        {
          "output_type": "stream",
          "name": "stdout",
          "text": [
            "Epoch 31: Avg Loss = 7.5652, Avg Accuracy = 8.83%\n"
          ]
        },
        {
          "output_type": "stream",
          "name": "stderr",
          "text": [
            "Training Epoch #32: 100%|██████████| 120/120 [00:00<00:00, 357.89it/s]\n"
          ]
        },
        {
          "output_type": "stream",
          "name": "stdout",
          "text": [
            "Epoch 32: Avg Loss = 7.5598, Avg Accuracy = 8.86%\n"
          ]
        },
        {
          "output_type": "stream",
          "name": "stderr",
          "text": [
            "Training Epoch #33: 100%|██████████| 120/120 [00:00<00:00, 354.18it/s]\n"
          ]
        },
        {
          "output_type": "stream",
          "name": "stdout",
          "text": [
            "Epoch 33: Avg Loss = 7.5571, Avg Accuracy = 8.83%\n"
          ]
        },
        {
          "output_type": "stream",
          "name": "stderr",
          "text": [
            "Training Epoch #34: 100%|██████████| 120/120 [00:00<00:00, 336.80it/s]\n"
          ]
        },
        {
          "output_type": "stream",
          "name": "stdout",
          "text": [
            "Epoch 34: Avg Loss = 7.5531, Avg Accuracy = 8.84%\n"
          ]
        },
        {
          "output_type": "stream",
          "name": "stderr",
          "text": [
            "Training Epoch #35: 100%|██████████| 120/120 [00:00<00:00, 369.69it/s]\n"
          ]
        },
        {
          "output_type": "stream",
          "name": "stdout",
          "text": [
            "Epoch 35: Avg Loss = 7.5498, Avg Accuracy = 8.86%\n"
          ]
        },
        {
          "output_type": "stream",
          "name": "stderr",
          "text": [
            "Training Epoch #36: 100%|██████████| 120/120 [00:00<00:00, 378.68it/s]\n"
          ]
        },
        {
          "output_type": "stream",
          "name": "stdout",
          "text": [
            "Epoch 36: Avg Loss = 7.5450, Avg Accuracy = 8.85%\n"
          ]
        },
        {
          "output_type": "stream",
          "name": "stderr",
          "text": [
            "Training Epoch #37: 100%|██████████| 120/120 [00:00<00:00, 344.53it/s]\n"
          ]
        },
        {
          "output_type": "stream",
          "name": "stdout",
          "text": [
            "Epoch 37: Avg Loss = 7.5424, Avg Accuracy = 8.84%\n"
          ]
        },
        {
          "output_type": "stream",
          "name": "stderr",
          "text": [
            "Training Epoch #38: 100%|██████████| 120/120 [00:00<00:00, 339.27it/s]\n"
          ]
        },
        {
          "output_type": "stream",
          "name": "stdout",
          "text": [
            "Epoch 38: Avg Loss = 7.5385, Avg Accuracy = 8.85%\n"
          ]
        },
        {
          "output_type": "stream",
          "name": "stderr",
          "text": [
            "Training Epoch #39: 100%|██████████| 120/120 [00:00<00:00, 355.95it/s]\n"
          ]
        },
        {
          "output_type": "stream",
          "name": "stdout",
          "text": [
            "Epoch 39: Avg Loss = 7.5348, Avg Accuracy = 8.87%\n"
          ]
        },
        {
          "output_type": "stream",
          "name": "stderr",
          "text": [
            "Training Epoch #40: 100%|██████████| 120/120 [00:00<00:00, 336.61it/s]\n"
          ]
        },
        {
          "output_type": "stream",
          "name": "stdout",
          "text": [
            "Epoch 40: Avg Loss = 7.5321, Avg Accuracy = 8.81%\n"
          ]
        },
        {
          "output_type": "stream",
          "name": "stderr",
          "text": [
            "Training Epoch #41: 100%|██████████| 120/120 [00:00<00:00, 361.55it/s]\n"
          ]
        },
        {
          "output_type": "stream",
          "name": "stdout",
          "text": [
            "Epoch 41: Avg Loss = 7.5278, Avg Accuracy = 8.84%\n"
          ]
        },
        {
          "output_type": "stream",
          "name": "stderr",
          "text": [
            "Training Epoch #42: 100%|██████████| 120/120 [00:00<00:00, 357.19it/s]\n"
          ]
        },
        {
          "output_type": "stream",
          "name": "stdout",
          "text": [
            "Epoch 42: Avg Loss = 7.5253, Avg Accuracy = 8.85%\n"
          ]
        },
        {
          "output_type": "stream",
          "name": "stderr",
          "text": [
            "Training Epoch #43: 100%|██████████| 120/120 [00:00<00:00, 352.40it/s]\n"
          ]
        },
        {
          "output_type": "stream",
          "name": "stdout",
          "text": [
            "Epoch 43: Avg Loss = 7.5222, Avg Accuracy = 8.82%\n"
          ]
        },
        {
          "output_type": "stream",
          "name": "stderr",
          "text": [
            "Training Epoch #44: 100%|██████████| 120/120 [00:00<00:00, 315.84it/s]\n"
          ]
        },
        {
          "output_type": "stream",
          "name": "stdout",
          "text": [
            "Epoch 44: Avg Loss = 7.5191, Avg Accuracy = 8.87%\n"
          ]
        },
        {
          "output_type": "stream",
          "name": "stderr",
          "text": [
            "Training Epoch #45: 100%|██████████| 120/120 [00:00<00:00, 360.67it/s]\n"
          ]
        },
        {
          "output_type": "stream",
          "name": "stdout",
          "text": [
            "Epoch 45: Avg Loss = 7.5162, Avg Accuracy = 8.85%\n"
          ]
        },
        {
          "output_type": "stream",
          "name": "stderr",
          "text": [
            "Training Epoch #46: 100%|██████████| 120/120 [00:00<00:00, 346.93it/s]\n"
          ]
        },
        {
          "output_type": "stream",
          "name": "stdout",
          "text": [
            "Epoch 46: Avg Loss = 7.5138, Avg Accuracy = 8.90%\n"
          ]
        },
        {
          "output_type": "stream",
          "name": "stderr",
          "text": [
            "Training Epoch #47: 100%|██████████| 120/120 [00:00<00:00, 215.89it/s]\n"
          ]
        },
        {
          "output_type": "stream",
          "name": "stdout",
          "text": [
            "Epoch 47: Avg Loss = 7.5104, Avg Accuracy = 8.84%\n"
          ]
        },
        {
          "output_type": "stream",
          "name": "stderr",
          "text": [
            "Training Epoch #48: 100%|██████████| 120/120 [00:00<00:00, 237.33it/s]\n"
          ]
        },
        {
          "output_type": "stream",
          "name": "stdout",
          "text": [
            "Epoch 48: Avg Loss = 7.5084, Avg Accuracy = 8.83%\n"
          ]
        },
        {
          "output_type": "stream",
          "name": "stderr",
          "text": [
            "Training Epoch #49: 100%|██████████| 120/120 [00:00<00:00, 235.99it/s]\n"
          ]
        },
        {
          "output_type": "stream",
          "name": "stdout",
          "text": [
            "Epoch 49: Avg Loss = 7.5056, Avg Accuracy = 8.86%\n"
          ]
        },
        {
          "output_type": "stream",
          "name": "stderr",
          "text": [
            "Training Epoch #50: 100%|██████████| 120/120 [00:00<00:00, 227.30it/s]\n"
          ]
        },
        {
          "output_type": "stream",
          "name": "stdout",
          "text": [
            "Epoch 50: Avg Loss = 7.5027, Avg Accuracy = 8.89%\n"
          ]
        },
        {
          "output_type": "stream",
          "name": "stderr",
          "text": [
            "Training Epoch #51: 100%|██████████| 120/120 [00:00<00:00, 218.90it/s]\n"
          ]
        },
        {
          "output_type": "stream",
          "name": "stdout",
          "text": [
            "Epoch 51: Avg Loss = 7.4996, Avg Accuracy = 8.84%\n"
          ]
        },
        {
          "output_type": "stream",
          "name": "stderr",
          "text": [
            "Training Epoch #52: 100%|██████████| 120/120 [00:00<00:00, 217.98it/s]\n"
          ]
        },
        {
          "output_type": "stream",
          "name": "stdout",
          "text": [
            "Epoch 52: Avg Loss = 7.4988, Avg Accuracy = 8.83%\n"
          ]
        },
        {
          "output_type": "stream",
          "name": "stderr",
          "text": [
            "Training Epoch #53: 100%|██████████| 120/120 [00:00<00:00, 194.18it/s]\n"
          ]
        },
        {
          "output_type": "stream",
          "name": "stdout",
          "text": [
            "Epoch 53: Avg Loss = 7.4963, Avg Accuracy = 8.90%\n"
          ]
        },
        {
          "output_type": "stream",
          "name": "stderr",
          "text": [
            "Training Epoch #54: 100%|██████████| 120/120 [00:00<00:00, 262.72it/s]\n"
          ]
        },
        {
          "output_type": "stream",
          "name": "stdout",
          "text": [
            "Epoch 54: Avg Loss = 7.4933, Avg Accuracy = 8.85%\n"
          ]
        },
        {
          "output_type": "stream",
          "name": "stderr",
          "text": [
            "Training Epoch #55: 100%|██████████| 120/120 [00:01<00:00, 113.48it/s]\n"
          ]
        },
        {
          "output_type": "stream",
          "name": "stdout",
          "text": [
            "Epoch 55: Avg Loss = 7.4907, Avg Accuracy = 8.86%\n"
          ]
        },
        {
          "output_type": "stream",
          "name": "stderr",
          "text": [
            "Training Epoch #56: 100%|██████████| 120/120 [00:01<00:00, 95.25it/s]\n"
          ]
        },
        {
          "output_type": "stream",
          "name": "stdout",
          "text": [
            "Epoch 56: Avg Loss = 7.4890, Avg Accuracy = 8.84%\n"
          ]
        },
        {
          "output_type": "stream",
          "name": "stderr",
          "text": [
            "Training Epoch #57: 100%|██████████| 120/120 [00:00<00:00, 135.45it/s]\n"
          ]
        },
        {
          "output_type": "stream",
          "name": "stdout",
          "text": [
            "Epoch 57: Avg Loss = 7.4865, Avg Accuracy = 8.88%\n"
          ]
        },
        {
          "output_type": "stream",
          "name": "stderr",
          "text": [
            "Training Epoch #58: 100%|██████████| 120/120 [00:00<00:00, 120.55it/s]\n"
          ]
        },
        {
          "output_type": "stream",
          "name": "stdout",
          "text": [
            "Epoch 58: Avg Loss = 7.4833, Avg Accuracy = 8.85%\n"
          ]
        },
        {
          "output_type": "stream",
          "name": "stderr",
          "text": [
            "Training Epoch #59: 100%|██████████| 120/120 [00:00<00:00, 137.15it/s]\n"
          ]
        },
        {
          "output_type": "stream",
          "name": "stdout",
          "text": [
            "Epoch 59: Avg Loss = 7.4818, Avg Accuracy = 8.84%\n"
          ]
        },
        {
          "output_type": "stream",
          "name": "stderr",
          "text": [
            "Training Epoch #60: 100%|██████████| 120/120 [00:00<00:00, 151.00it/s]\n"
          ]
        },
        {
          "output_type": "stream",
          "name": "stdout",
          "text": [
            "Epoch 60: Avg Loss = 7.4793, Avg Accuracy = 8.83%\n"
          ]
        },
        {
          "output_type": "stream",
          "name": "stderr",
          "text": [
            "Training Epoch #61: 100%|██████████| 120/120 [00:00<00:00, 207.10it/s]\n"
          ]
        },
        {
          "output_type": "stream",
          "name": "stdout",
          "text": [
            "Epoch 61: Avg Loss = 7.4777, Avg Accuracy = 8.89%\n"
          ]
        },
        {
          "output_type": "stream",
          "name": "stderr",
          "text": [
            "Training Epoch #62: 100%|██████████| 120/120 [00:00<00:00, 180.76it/s]\n"
          ]
        },
        {
          "output_type": "stream",
          "name": "stdout",
          "text": [
            "Epoch 62: Avg Loss = 7.4752, Avg Accuracy = 8.80%\n"
          ]
        },
        {
          "output_type": "stream",
          "name": "stderr",
          "text": [
            "Training Epoch #63: 100%|██████████| 120/120 [00:01<00:00, 87.06it/s]\n"
          ]
        },
        {
          "output_type": "stream",
          "name": "stdout",
          "text": [
            "Epoch 63: Avg Loss = 7.4738, Avg Accuracy = 8.87%\n"
          ]
        },
        {
          "output_type": "stream",
          "name": "stderr",
          "text": [
            "Training Epoch #64: 100%|██████████| 120/120 [00:01<00:00, 89.03it/s]\n"
          ]
        },
        {
          "output_type": "stream",
          "name": "stdout",
          "text": [
            "Epoch 64: Avg Loss = 7.4711, Avg Accuracy = 8.86%\n"
          ]
        },
        {
          "output_type": "stream",
          "name": "stderr",
          "text": [
            "Training Epoch #65: 100%|██████████| 120/120 [00:01<00:00, 75.76it/s]\n"
          ]
        },
        {
          "output_type": "stream",
          "name": "stdout",
          "text": [
            "Epoch 65: Avg Loss = 7.4694, Avg Accuracy = 8.84%\n"
          ]
        },
        {
          "output_type": "stream",
          "name": "stderr",
          "text": [
            "Training Epoch #66: 100%|██████████| 120/120 [00:00<00:00, 155.78it/s]\n"
          ]
        },
        {
          "output_type": "stream",
          "name": "stdout",
          "text": [
            "Epoch 66: Avg Loss = 7.4683, Avg Accuracy = 8.83%\n"
          ]
        },
        {
          "output_type": "stream",
          "name": "stderr",
          "text": [
            "Training Epoch #67: 100%|██████████| 120/120 [00:00<00:00, 226.38it/s]\n"
          ]
        },
        {
          "output_type": "stream",
          "name": "stdout",
          "text": [
            "Epoch 67: Avg Loss = 7.4658, Avg Accuracy = 8.82%\n"
          ]
        },
        {
          "output_type": "stream",
          "name": "stderr",
          "text": [
            "Training Epoch #68: 100%|██████████| 120/120 [00:00<00:00, 203.85it/s]\n"
          ]
        },
        {
          "output_type": "stream",
          "name": "stdout",
          "text": [
            "Epoch 68: Avg Loss = 7.4654, Avg Accuracy = 8.82%\n"
          ]
        },
        {
          "output_type": "stream",
          "name": "stderr",
          "text": [
            "Training Epoch #69: 100%|██████████| 120/120 [00:00<00:00, 196.97it/s]\n"
          ]
        },
        {
          "output_type": "stream",
          "name": "stdout",
          "text": [
            "Epoch 69: Avg Loss = 7.4620, Avg Accuracy = 8.81%\n"
          ]
        },
        {
          "output_type": "stream",
          "name": "stderr",
          "text": [
            "Training Epoch #70: 100%|██████████| 120/120 [00:00<00:00, 274.88it/s]\n"
          ]
        },
        {
          "output_type": "stream",
          "name": "stdout",
          "text": [
            "Epoch 70: Avg Loss = 7.4602, Avg Accuracy = 8.88%\n"
          ]
        },
        {
          "output_type": "stream",
          "name": "stderr",
          "text": [
            "Training Epoch #71: 100%|██████████| 120/120 [00:00<00:00, 361.95it/s]\n"
          ]
        },
        {
          "output_type": "stream",
          "name": "stdout",
          "text": [
            "Epoch 71: Avg Loss = 7.4578, Avg Accuracy = 8.84%\n"
          ]
        },
        {
          "output_type": "stream",
          "name": "stderr",
          "text": [
            "Training Epoch #72: 100%|██████████| 120/120 [00:00<00:00, 344.68it/s]\n"
          ]
        },
        {
          "output_type": "stream",
          "name": "stdout",
          "text": [
            "Epoch 72: Avg Loss = 7.4561, Avg Accuracy = 8.84%\n"
          ]
        },
        {
          "output_type": "stream",
          "name": "stderr",
          "text": [
            "Training Epoch #73: 100%|██████████| 120/120 [00:00<00:00, 324.12it/s]\n"
          ]
        },
        {
          "output_type": "stream",
          "name": "stdout",
          "text": [
            "Epoch 73: Avg Loss = 7.4544, Avg Accuracy = 8.81%\n"
          ]
        },
        {
          "output_type": "stream",
          "name": "stderr",
          "text": [
            "Training Epoch #74: 100%|██████████| 120/120 [00:00<00:00, 304.68it/s]\n"
          ]
        },
        {
          "output_type": "stream",
          "name": "stdout",
          "text": [
            "Epoch 74: Avg Loss = 7.4526, Avg Accuracy = 8.84%\n"
          ]
        },
        {
          "output_type": "stream",
          "name": "stderr",
          "text": [
            "Training Epoch #75: 100%|██████████| 120/120 [00:00<00:00, 287.89it/s]\n"
          ]
        },
        {
          "output_type": "stream",
          "name": "stdout",
          "text": [
            "Epoch 75: Avg Loss = 7.4494, Avg Accuracy = 8.85%\n"
          ]
        },
        {
          "output_type": "stream",
          "name": "stderr",
          "text": [
            "Training Epoch #76: 100%|██████████| 120/120 [00:00<00:00, 294.76it/s]\n"
          ]
        },
        {
          "output_type": "stream",
          "name": "stdout",
          "text": [
            "Epoch 76: Avg Loss = 7.4487, Avg Accuracy = 8.84%\n"
          ]
        },
        {
          "output_type": "stream",
          "name": "stderr",
          "text": [
            "Training Epoch #77: 100%|██████████| 120/120 [00:00<00:00, 336.68it/s]\n"
          ]
        },
        {
          "output_type": "stream",
          "name": "stdout",
          "text": [
            "Epoch 77: Avg Loss = 7.4455, Avg Accuracy = 8.84%\n"
          ]
        },
        {
          "output_type": "stream",
          "name": "stderr",
          "text": [
            "Training Epoch #78: 100%|██████████| 120/120 [00:00<00:00, 323.00it/s]\n"
          ]
        },
        {
          "output_type": "stream",
          "name": "stdout",
          "text": [
            "Epoch 78: Avg Loss = 7.4438, Avg Accuracy = 8.84%\n"
          ]
        },
        {
          "output_type": "stream",
          "name": "stderr",
          "text": [
            "Training Epoch #79: 100%|██████████| 120/120 [00:00<00:00, 320.21it/s]\n"
          ]
        },
        {
          "output_type": "stream",
          "name": "stdout",
          "text": [
            "Epoch 79: Avg Loss = 7.4426, Avg Accuracy = 8.83%\n"
          ]
        },
        {
          "output_type": "stream",
          "name": "stderr",
          "text": [
            "Training Epoch #80: 100%|██████████| 120/120 [00:00<00:00, 351.75it/s]\n"
          ]
        },
        {
          "output_type": "stream",
          "name": "stdout",
          "text": [
            "Epoch 80: Avg Loss = 7.4398, Avg Accuracy = 8.86%\n"
          ]
        },
        {
          "output_type": "stream",
          "name": "stderr",
          "text": [
            "Training Epoch #81: 100%|██████████| 120/120 [00:00<00:00, 321.40it/s]\n"
          ]
        },
        {
          "output_type": "stream",
          "name": "stdout",
          "text": [
            "Epoch 81: Avg Loss = 7.4395, Avg Accuracy = 8.82%\n"
          ]
        },
        {
          "output_type": "stream",
          "name": "stderr",
          "text": [
            "Training Epoch #82: 100%|██████████| 120/120 [00:00<00:00, 310.38it/s]\n"
          ]
        },
        {
          "output_type": "stream",
          "name": "stdout",
          "text": [
            "Epoch 82: Avg Loss = 7.4363, Avg Accuracy = 8.80%\n"
          ]
        },
        {
          "output_type": "stream",
          "name": "stderr",
          "text": [
            "Training Epoch #83: 100%|██████████| 120/120 [00:00<00:00, 336.70it/s]\n"
          ]
        },
        {
          "output_type": "stream",
          "name": "stdout",
          "text": [
            "Epoch 83: Avg Loss = 7.4340, Avg Accuracy = 8.89%\n"
          ]
        },
        {
          "output_type": "stream",
          "name": "stderr",
          "text": [
            "Training Epoch #84: 100%|██████████| 120/120 [00:00<00:00, 295.01it/s]\n"
          ]
        },
        {
          "output_type": "stream",
          "name": "stdout",
          "text": [
            "Epoch 84: Avg Loss = 7.4328, Avg Accuracy = 8.88%\n"
          ]
        },
        {
          "output_type": "stream",
          "name": "stderr",
          "text": [
            "Training Epoch #85: 100%|██████████| 120/120 [00:00<00:00, 331.35it/s]\n"
          ]
        },
        {
          "output_type": "stream",
          "name": "stdout",
          "text": [
            "Epoch 85: Avg Loss = 7.4305, Avg Accuracy = 8.84%\n"
          ]
        },
        {
          "output_type": "stream",
          "name": "stderr",
          "text": [
            "Training Epoch #86: 100%|██████████| 120/120 [00:00<00:00, 341.69it/s]\n"
          ]
        },
        {
          "output_type": "stream",
          "name": "stdout",
          "text": [
            "Epoch 86: Avg Loss = 7.4305, Avg Accuracy = 8.83%\n"
          ]
        },
        {
          "output_type": "stream",
          "name": "stderr",
          "text": [
            "Training Epoch #87: 100%|██████████| 120/120 [00:00<00:00, 342.68it/s]\n"
          ]
        },
        {
          "output_type": "stream",
          "name": "stdout",
          "text": [
            "Epoch 87: Avg Loss = 7.4267, Avg Accuracy = 8.83%\n"
          ]
        },
        {
          "output_type": "stream",
          "name": "stderr",
          "text": [
            "Training Epoch #88: 100%|██████████| 120/120 [00:00<00:00, 311.08it/s]\n"
          ]
        },
        {
          "output_type": "stream",
          "name": "stdout",
          "text": [
            "Epoch 88: Avg Loss = 7.4256, Avg Accuracy = 8.81%\n"
          ]
        },
        {
          "output_type": "stream",
          "name": "stderr",
          "text": [
            "Training Epoch #89: 100%|██████████| 120/120 [00:00<00:00, 257.90it/s]\n"
          ]
        },
        {
          "output_type": "stream",
          "name": "stdout",
          "text": [
            "Epoch 89: Avg Loss = 7.4237, Avg Accuracy = 8.82%\n"
          ]
        },
        {
          "output_type": "stream",
          "name": "stderr",
          "text": [
            "Training Epoch #90: 100%|██████████| 120/120 [00:00<00:00, 362.73it/s]\n"
          ]
        },
        {
          "output_type": "stream",
          "name": "stdout",
          "text": [
            "Epoch 90: Avg Loss = 7.4214, Avg Accuracy = 8.84%\n"
          ]
        },
        {
          "output_type": "stream",
          "name": "stderr",
          "text": [
            "Training Epoch #91: 100%|██████████| 120/120 [00:00<00:00, 355.92it/s]\n"
          ]
        },
        {
          "output_type": "stream",
          "name": "stdout",
          "text": [
            "Epoch 91: Avg Loss = 7.4195, Avg Accuracy = 8.84%\n"
          ]
        },
        {
          "output_type": "stream",
          "name": "stderr",
          "text": [
            "Training Epoch #92: 100%|██████████| 120/120 [00:00<00:00, 387.14it/s]\n"
          ]
        },
        {
          "output_type": "stream",
          "name": "stdout",
          "text": [
            "Epoch 92: Avg Loss = 7.4172, Avg Accuracy = 8.87%\n"
          ]
        },
        {
          "output_type": "stream",
          "name": "stderr",
          "text": [
            "Training Epoch #93: 100%|██████████| 120/120 [00:00<00:00, 342.62it/s]\n"
          ]
        },
        {
          "output_type": "stream",
          "name": "stdout",
          "text": [
            "Epoch 93: Avg Loss = 7.4152, Avg Accuracy = 8.84%\n"
          ]
        },
        {
          "output_type": "stream",
          "name": "stderr",
          "text": [
            "Training Epoch #94: 100%|██████████| 120/120 [00:00<00:00, 326.05it/s]\n"
          ]
        },
        {
          "output_type": "stream",
          "name": "stdout",
          "text": [
            "Epoch 94: Avg Loss = 7.4132, Avg Accuracy = 8.83%\n"
          ]
        },
        {
          "output_type": "stream",
          "name": "stderr",
          "text": [
            "Training Epoch #95: 100%|██████████| 120/120 [00:00<00:00, 315.49it/s]\n"
          ]
        },
        {
          "output_type": "stream",
          "name": "stdout",
          "text": [
            "Epoch 95: Avg Loss = 7.4108, Avg Accuracy = 8.83%\n"
          ]
        },
        {
          "output_type": "stream",
          "name": "stderr",
          "text": [
            "Training Epoch #96: 100%|██████████| 120/120 [00:00<00:00, 313.71it/s]\n"
          ]
        },
        {
          "output_type": "stream",
          "name": "stdout",
          "text": [
            "Epoch 96: Avg Loss = 7.4088, Avg Accuracy = 8.83%\n"
          ]
        },
        {
          "output_type": "stream",
          "name": "stderr",
          "text": [
            "Training Epoch #97: 100%|██████████| 120/120 [00:00<00:00, 168.31it/s]\n"
          ]
        },
        {
          "output_type": "stream",
          "name": "stdout",
          "text": [
            "Epoch 97: Avg Loss = 7.4068, Avg Accuracy = 8.87%\n"
          ]
        },
        {
          "output_type": "stream",
          "name": "stderr",
          "text": [
            "Training Epoch #98: 100%|██████████| 120/120 [00:00<00:00, 244.07it/s]\n"
          ]
        },
        {
          "output_type": "stream",
          "name": "stdout",
          "text": [
            "Epoch 98: Avg Loss = 7.4046, Avg Accuracy = 8.85%\n"
          ]
        },
        {
          "output_type": "stream",
          "name": "stderr",
          "text": [
            "Training Epoch #99: 100%|██████████| 120/120 [00:00<00:00, 207.71it/s]\n"
          ]
        },
        {
          "output_type": "stream",
          "name": "stdout",
          "text": [
            "Epoch 99: Avg Loss = 7.4023, Avg Accuracy = 8.86%\n"
          ]
        },
        {
          "output_type": "stream",
          "name": "stderr",
          "text": [
            "Training Epoch #100: 100%|██████████| 120/120 [00:00<00:00, 227.40it/s]\n"
          ]
        },
        {
          "output_type": "stream",
          "name": "stdout",
          "text": [
            "Epoch 100: Avg Loss = 7.4001, Avg Accuracy = 8.83%\n"
          ]
        },
        {
          "output_type": "stream",
          "name": "stderr",
          "text": [
            "Training Epoch #101: 100%|██████████| 120/120 [00:00<00:00, 223.93it/s]\n"
          ]
        },
        {
          "output_type": "stream",
          "name": "stdout",
          "text": [
            "Epoch 101: Avg Loss = 7.3991, Avg Accuracy = 8.83%\n"
          ]
        },
        {
          "output_type": "stream",
          "name": "stderr",
          "text": [
            "Training Epoch #102: 100%|██████████| 120/120 [00:00<00:00, 197.65it/s]\n"
          ]
        },
        {
          "output_type": "stream",
          "name": "stdout",
          "text": [
            "Epoch 102: Avg Loss = 7.3970, Avg Accuracy = 8.83%\n"
          ]
        },
        {
          "output_type": "stream",
          "name": "stderr",
          "text": [
            "Training Epoch #103: 100%|██████████| 120/120 [00:00<00:00, 229.58it/s]\n"
          ]
        },
        {
          "output_type": "stream",
          "name": "stdout",
          "text": [
            "Epoch 103: Avg Loss = 7.3944, Avg Accuracy = 8.85%\n"
          ]
        },
        {
          "output_type": "stream",
          "name": "stderr",
          "text": [
            "Training Epoch #104: 100%|██████████| 120/120 [00:00<00:00, 357.71it/s]\n"
          ]
        },
        {
          "output_type": "stream",
          "name": "stdout",
          "text": [
            "Epoch 104: Avg Loss = 7.3926, Avg Accuracy = 8.80%\n"
          ]
        },
        {
          "output_type": "stream",
          "name": "stderr",
          "text": [
            "Training Epoch #105: 100%|██████████| 120/120 [00:00<00:00, 331.83it/s]\n"
          ]
        },
        {
          "output_type": "stream",
          "name": "stdout",
          "text": [
            "Epoch 105: Avg Loss = 7.3901, Avg Accuracy = 8.86%\n"
          ]
        },
        {
          "output_type": "stream",
          "name": "stderr",
          "text": [
            "Training Epoch #106: 100%|██████████| 120/120 [00:00<00:00, 370.55it/s]\n"
          ]
        },
        {
          "output_type": "stream",
          "name": "stdout",
          "text": [
            "Epoch 106: Avg Loss = 7.3889, Avg Accuracy = 8.86%\n"
          ]
        },
        {
          "output_type": "stream",
          "name": "stderr",
          "text": [
            "Training Epoch #107: 100%|██████████| 120/120 [00:00<00:00, 371.84it/s]\n"
          ]
        },
        {
          "output_type": "stream",
          "name": "stdout",
          "text": [
            "Epoch 107: Avg Loss = 7.3862, Avg Accuracy = 8.79%\n"
          ]
        },
        {
          "output_type": "stream",
          "name": "stderr",
          "text": [
            "Training Epoch #108: 100%|██████████| 120/120 [00:00<00:00, 347.53it/s]\n"
          ]
        },
        {
          "output_type": "stream",
          "name": "stdout",
          "text": [
            "Epoch 108: Avg Loss = 7.3833, Avg Accuracy = 8.83%\n"
          ]
        },
        {
          "output_type": "stream",
          "name": "stderr",
          "text": [
            "Training Epoch #109: 100%|██████████| 120/120 [00:00<00:00, 350.58it/s]\n"
          ]
        },
        {
          "output_type": "stream",
          "name": "stdout",
          "text": [
            "Epoch 109: Avg Loss = 7.3811, Avg Accuracy = 8.89%\n"
          ]
        },
        {
          "output_type": "stream",
          "name": "stderr",
          "text": [
            "Training Epoch #110: 100%|██████████| 120/120 [00:00<00:00, 353.74it/s]\n"
          ]
        },
        {
          "output_type": "stream",
          "name": "stdout",
          "text": [
            "Epoch 110: Avg Loss = 7.3784, Avg Accuracy = 8.79%\n"
          ]
        },
        {
          "output_type": "stream",
          "name": "stderr",
          "text": [
            "Training Epoch #111: 100%|██████████| 120/120 [00:00<00:00, 329.77it/s]\n"
          ]
        },
        {
          "output_type": "stream",
          "name": "stdout",
          "text": [
            "Epoch 111: Avg Loss = 7.3765, Avg Accuracy = 8.87%\n"
          ]
        },
        {
          "output_type": "stream",
          "name": "stderr",
          "text": [
            "Training Epoch #112: 100%|██████████| 120/120 [00:00<00:00, 343.25it/s]\n"
          ]
        },
        {
          "output_type": "stream",
          "name": "stdout",
          "text": [
            "Epoch 112: Avg Loss = 7.3743, Avg Accuracy = 8.89%\n"
          ]
        },
        {
          "output_type": "stream",
          "name": "stderr",
          "text": [
            "Training Epoch #113: 100%|██████████| 120/120 [00:00<00:00, 334.13it/s]\n"
          ]
        },
        {
          "output_type": "stream",
          "name": "stdout",
          "text": [
            "Epoch 113: Avg Loss = 7.3742, Avg Accuracy = 8.82%\n"
          ]
        },
        {
          "output_type": "stream",
          "name": "stderr",
          "text": [
            "Training Epoch #114: 100%|██████████| 120/120 [00:00<00:00, 353.77it/s]\n"
          ]
        },
        {
          "output_type": "stream",
          "name": "stdout",
          "text": [
            "Epoch 114: Avg Loss = 7.3707, Avg Accuracy = 8.87%\n"
          ]
        },
        {
          "output_type": "stream",
          "name": "stderr",
          "text": [
            "Training Epoch #115: 100%|██████████| 120/120 [00:00<00:00, 361.00it/s]\n"
          ]
        },
        {
          "output_type": "stream",
          "name": "stdout",
          "text": [
            "Epoch 115: Avg Loss = 7.3677, Avg Accuracy = 8.81%\n"
          ]
        },
        {
          "output_type": "stream",
          "name": "stderr",
          "text": [
            "Training Epoch #116: 100%|██████████| 120/120 [00:00<00:00, 353.61it/s]\n"
          ]
        },
        {
          "output_type": "stream",
          "name": "stdout",
          "text": [
            "Epoch 116: Avg Loss = 7.3652, Avg Accuracy = 8.87%\n"
          ]
        },
        {
          "output_type": "stream",
          "name": "stderr",
          "text": [
            "Training Epoch #117: 100%|██████████| 120/120 [00:00<00:00, 354.58it/s]\n"
          ]
        },
        {
          "output_type": "stream",
          "name": "stdout",
          "text": [
            "Epoch 117: Avg Loss = 7.3632, Avg Accuracy = 8.85%\n"
          ]
        },
        {
          "output_type": "stream",
          "name": "stderr",
          "text": [
            "Training Epoch #118: 100%|██████████| 120/120 [00:00<00:00, 326.76it/s]\n"
          ]
        },
        {
          "output_type": "stream",
          "name": "stdout",
          "text": [
            "Epoch 118: Avg Loss = 7.3620, Avg Accuracy = 8.81%\n"
          ]
        },
        {
          "output_type": "stream",
          "name": "stderr",
          "text": [
            "Training Epoch #119: 100%|██████████| 120/120 [00:00<00:00, 335.08it/s]\n"
          ]
        },
        {
          "output_type": "stream",
          "name": "stdout",
          "text": [
            "Epoch 119: Avg Loss = 7.3595, Avg Accuracy = 8.83%\n"
          ]
        },
        {
          "output_type": "stream",
          "name": "stderr",
          "text": [
            "Training Epoch #120: 100%|██████████| 120/120 [00:00<00:00, 350.43it/s]\n"
          ]
        },
        {
          "output_type": "stream",
          "name": "stdout",
          "text": [
            "Epoch 120: Avg Loss = 7.3567, Avg Accuracy = 8.85%\n"
          ]
        },
        {
          "output_type": "stream",
          "name": "stderr",
          "text": [
            "Training Epoch #121: 100%|██████████| 120/120 [00:00<00:00, 331.38it/s]\n"
          ]
        },
        {
          "output_type": "stream",
          "name": "stdout",
          "text": [
            "Epoch 121: Avg Loss = 7.3537, Avg Accuracy = 8.81%\n"
          ]
        },
        {
          "output_type": "stream",
          "name": "stderr",
          "text": [
            "Training Epoch #122: 100%|██████████| 120/120 [00:00<00:00, 332.48it/s]\n"
          ]
        },
        {
          "output_type": "stream",
          "name": "stdout",
          "text": [
            "Epoch 122: Avg Loss = 7.3537, Avg Accuracy = 8.85%\n"
          ]
        },
        {
          "output_type": "stream",
          "name": "stderr",
          "text": [
            "Training Epoch #123: 100%|██████████| 120/120 [00:00<00:00, 359.67it/s]\n"
          ]
        },
        {
          "output_type": "stream",
          "name": "stdout",
          "text": [
            "Epoch 123: Avg Loss = 7.3511, Avg Accuracy = 8.82%\n"
          ]
        },
        {
          "output_type": "stream",
          "name": "stderr",
          "text": [
            "Training Epoch #124: 100%|██████████| 120/120 [00:00<00:00, 348.54it/s]\n"
          ]
        },
        {
          "output_type": "stream",
          "name": "stdout",
          "text": [
            "Epoch 124: Avg Loss = 7.3470, Avg Accuracy = 8.82%\n"
          ]
        },
        {
          "output_type": "stream",
          "name": "stderr",
          "text": [
            "Training Epoch #125: 100%|██████████| 120/120 [00:00<00:00, 340.62it/s]\n"
          ]
        },
        {
          "output_type": "stream",
          "name": "stdout",
          "text": [
            "Epoch 125: Avg Loss = 7.3450, Avg Accuracy = 8.84%\n"
          ]
        },
        {
          "output_type": "stream",
          "name": "stderr",
          "text": [
            "Training Epoch #126: 100%|██████████| 120/120 [00:00<00:00, 335.69it/s]\n"
          ]
        },
        {
          "output_type": "stream",
          "name": "stdout",
          "text": [
            "Epoch 126: Avg Loss = 7.3426, Avg Accuracy = 8.83%\n"
          ]
        },
        {
          "output_type": "stream",
          "name": "stderr",
          "text": [
            "Training Epoch #127: 100%|██████████| 120/120 [00:00<00:00, 327.74it/s]\n"
          ]
        },
        {
          "output_type": "stream",
          "name": "stdout",
          "text": [
            "Epoch 127: Avg Loss = 7.3406, Avg Accuracy = 8.86%\n"
          ]
        },
        {
          "output_type": "stream",
          "name": "stderr",
          "text": [
            "Training Epoch #128: 100%|██████████| 120/120 [00:00<00:00, 325.97it/s]\n"
          ]
        },
        {
          "output_type": "stream",
          "name": "stdout",
          "text": [
            "Epoch 128: Avg Loss = 7.3391, Avg Accuracy = 8.81%\n"
          ]
        },
        {
          "output_type": "stream",
          "name": "stderr",
          "text": [
            "Training Epoch #129: 100%|██████████| 120/120 [00:00<00:00, 358.16it/s]\n"
          ]
        },
        {
          "output_type": "stream",
          "name": "stdout",
          "text": [
            "Epoch 129: Avg Loss = 7.3361, Avg Accuracy = 8.84%\n"
          ]
        },
        {
          "output_type": "stream",
          "name": "stderr",
          "text": [
            "Training Epoch #130: 100%|██████████| 120/120 [00:00<00:00, 339.33it/s]\n"
          ]
        },
        {
          "output_type": "stream",
          "name": "stdout",
          "text": [
            "Epoch 130: Avg Loss = 7.3329, Avg Accuracy = 8.77%\n"
          ]
        },
        {
          "output_type": "stream",
          "name": "stderr",
          "text": [
            "Training Epoch #131: 100%|██████████| 120/120 [00:00<00:00, 288.76it/s]\n"
          ]
        },
        {
          "output_type": "stream",
          "name": "stdout",
          "text": [
            "Epoch 131: Avg Loss = 7.3308, Avg Accuracy = 8.83%\n"
          ]
        },
        {
          "output_type": "stream",
          "name": "stderr",
          "text": [
            "Training Epoch #132: 100%|██████████| 120/120 [00:00<00:00, 236.92it/s]\n"
          ]
        },
        {
          "output_type": "stream",
          "name": "stdout",
          "text": [
            "Epoch 132: Avg Loss = 7.3277, Avg Accuracy = 8.81%\n"
          ]
        },
        {
          "output_type": "stream",
          "name": "stderr",
          "text": [
            "Training Epoch #133: 100%|██████████| 120/120 [00:00<00:00, 244.16it/s]\n"
          ]
        },
        {
          "output_type": "stream",
          "name": "stdout",
          "text": [
            "Epoch 133: Avg Loss = 7.3254, Avg Accuracy = 8.86%\n"
          ]
        },
        {
          "output_type": "stream",
          "name": "stderr",
          "text": [
            "Training Epoch #134: 100%|██████████| 120/120 [00:00<00:00, 229.68it/s]\n"
          ]
        },
        {
          "output_type": "stream",
          "name": "stdout",
          "text": [
            "Epoch 134: Avg Loss = 7.3236, Avg Accuracy = 8.81%\n"
          ]
        },
        {
          "output_type": "stream",
          "name": "stderr",
          "text": [
            "Training Epoch #135: 100%|██████████| 120/120 [00:00<00:00, 225.33it/s]\n"
          ]
        },
        {
          "output_type": "stream",
          "name": "stdout",
          "text": [
            "Epoch 135: Avg Loss = 7.3215, Avg Accuracy = 8.82%\n"
          ]
        },
        {
          "output_type": "stream",
          "name": "stderr",
          "text": [
            "Training Epoch #136: 100%|██████████| 120/120 [00:00<00:00, 233.93it/s]\n"
          ]
        },
        {
          "output_type": "stream",
          "name": "stdout",
          "text": [
            "Epoch 136: Avg Loss = 7.3192, Avg Accuracy = 8.81%\n"
          ]
        },
        {
          "output_type": "stream",
          "name": "stderr",
          "text": [
            "Training Epoch #137: 100%|██████████| 120/120 [00:00<00:00, 201.77it/s]\n"
          ]
        },
        {
          "output_type": "stream",
          "name": "stdout",
          "text": [
            "Epoch 137: Avg Loss = 7.3168, Avg Accuracy = 8.84%\n"
          ]
        },
        {
          "output_type": "stream",
          "name": "stderr",
          "text": [
            "Training Epoch #138: 100%|██████████| 120/120 [00:00<00:00, 199.25it/s]\n"
          ]
        },
        {
          "output_type": "stream",
          "name": "stdout",
          "text": [
            "Epoch 138: Avg Loss = 7.3143, Avg Accuracy = 8.80%\n"
          ]
        },
        {
          "output_type": "stream",
          "name": "stderr",
          "text": [
            "Training Epoch #139: 100%|██████████| 120/120 [00:00<00:00, 343.12it/s]\n"
          ]
        },
        {
          "output_type": "stream",
          "name": "stdout",
          "text": [
            "Epoch 139: Avg Loss = 7.3122, Avg Accuracy = 8.81%\n"
          ]
        },
        {
          "output_type": "stream",
          "name": "stderr",
          "text": [
            "Training Epoch #140: 100%|██████████| 120/120 [00:00<00:00, 313.61it/s]\n"
          ]
        },
        {
          "output_type": "stream",
          "name": "stdout",
          "text": [
            "Epoch 140: Avg Loss = 7.3106, Avg Accuracy = 8.85%\n"
          ]
        },
        {
          "output_type": "stream",
          "name": "stderr",
          "text": [
            "Training Epoch #141: 100%|██████████| 120/120 [00:00<00:00, 328.69it/s]\n"
          ]
        },
        {
          "output_type": "stream",
          "name": "stdout",
          "text": [
            "Epoch 141: Avg Loss = 7.3073, Avg Accuracy = 8.83%\n"
          ]
        },
        {
          "output_type": "stream",
          "name": "stderr",
          "text": [
            "Training Epoch #142: 100%|██████████| 120/120 [00:00<00:00, 320.28it/s]\n"
          ]
        },
        {
          "output_type": "stream",
          "name": "stdout",
          "text": [
            "Epoch 142: Avg Loss = 7.3048, Avg Accuracy = 8.85%\n"
          ]
        },
        {
          "output_type": "stream",
          "name": "stderr",
          "text": [
            "Training Epoch #143: 100%|██████████| 120/120 [00:00<00:00, 325.66it/s]\n"
          ]
        },
        {
          "output_type": "stream",
          "name": "stdout",
          "text": [
            "Epoch 143: Avg Loss = 7.3016, Avg Accuracy = 8.83%\n"
          ]
        },
        {
          "output_type": "stream",
          "name": "stderr",
          "text": [
            "Training Epoch #144: 100%|██████████| 120/120 [00:00<00:00, 334.86it/s]\n"
          ]
        },
        {
          "output_type": "stream",
          "name": "stdout",
          "text": [
            "Epoch 144: Avg Loss = 7.3012, Avg Accuracy = 8.82%\n"
          ]
        },
        {
          "output_type": "stream",
          "name": "stderr",
          "text": [
            "Training Epoch #145: 100%|██████████| 120/120 [00:00<00:00, 319.85it/s]\n"
          ]
        },
        {
          "output_type": "stream",
          "name": "stdout",
          "text": [
            "Epoch 145: Avg Loss = 7.2983, Avg Accuracy = 8.86%\n"
          ]
        },
        {
          "output_type": "stream",
          "name": "stderr",
          "text": [
            "Training Epoch #146: 100%|██████████| 120/120 [00:00<00:00, 313.89it/s]\n"
          ]
        },
        {
          "output_type": "stream",
          "name": "stdout",
          "text": [
            "Epoch 146: Avg Loss = 7.2963, Avg Accuracy = 8.84%\n"
          ]
        },
        {
          "output_type": "stream",
          "name": "stderr",
          "text": [
            "Training Epoch #147: 100%|██████████| 120/120 [00:00<00:00, 366.86it/s]\n"
          ]
        },
        {
          "output_type": "stream",
          "name": "stdout",
          "text": [
            "Epoch 147: Avg Loss = 7.2934, Avg Accuracy = 8.83%\n"
          ]
        },
        {
          "output_type": "stream",
          "name": "stderr",
          "text": [
            "Training Epoch #148: 100%|██████████| 120/120 [00:00<00:00, 372.22it/s]\n"
          ]
        },
        {
          "output_type": "stream",
          "name": "stdout",
          "text": [
            "Epoch 148: Avg Loss = 7.2927, Avg Accuracy = 8.81%\n"
          ]
        },
        {
          "output_type": "stream",
          "name": "stderr",
          "text": [
            "Training Epoch #149: 100%|██████████| 120/120 [00:00<00:00, 349.14it/s]\n"
          ]
        },
        {
          "output_type": "stream",
          "name": "stdout",
          "text": [
            "Epoch 149: Avg Loss = 7.2894, Avg Accuracy = 8.83%\n"
          ]
        },
        {
          "output_type": "stream",
          "name": "stderr",
          "text": [
            "Training Epoch #150: 100%|██████████| 120/120 [00:00<00:00, 357.56it/s]\n"
          ]
        },
        {
          "output_type": "stream",
          "name": "stdout",
          "text": [
            "Epoch 150: Avg Loss = 7.2859, Avg Accuracy = 8.83%\n"
          ]
        },
        {
          "output_type": "stream",
          "name": "stderr",
          "text": [
            "Training Epoch #151: 100%|██████████| 120/120 [00:00<00:00, 368.60it/s]\n"
          ]
        },
        {
          "output_type": "stream",
          "name": "stdout",
          "text": [
            "Epoch 151: Avg Loss = 7.2843, Avg Accuracy = 8.82%\n"
          ]
        },
        {
          "output_type": "stream",
          "name": "stderr",
          "text": [
            "Training Epoch #152: 100%|██████████| 120/120 [00:00<00:00, 354.66it/s]\n"
          ]
        },
        {
          "output_type": "stream",
          "name": "stdout",
          "text": [
            "Epoch 152: Avg Loss = 7.2832, Avg Accuracy = 8.86%\n"
          ]
        },
        {
          "output_type": "stream",
          "name": "stderr",
          "text": [
            "Training Epoch #153: 100%|██████████| 120/120 [00:00<00:00, 344.20it/s]\n"
          ]
        },
        {
          "output_type": "stream",
          "name": "stdout",
          "text": [
            "Epoch 153: Avg Loss = 7.2791, Avg Accuracy = 8.82%\n"
          ]
        },
        {
          "output_type": "stream",
          "name": "stderr",
          "text": [
            "Training Epoch #154: 100%|██████████| 120/120 [00:00<00:00, 332.59it/s]\n"
          ]
        },
        {
          "output_type": "stream",
          "name": "stdout",
          "text": [
            "Epoch 154: Avg Loss = 7.2784, Avg Accuracy = 8.82%\n"
          ]
        },
        {
          "output_type": "stream",
          "name": "stderr",
          "text": [
            "Training Epoch #155: 100%|██████████| 120/120 [00:00<00:00, 343.26it/s]\n"
          ]
        },
        {
          "output_type": "stream",
          "name": "stdout",
          "text": [
            "Epoch 155: Avg Loss = 7.2750, Avg Accuracy = 8.80%\n"
          ]
        },
        {
          "output_type": "stream",
          "name": "stderr",
          "text": [
            "Training Epoch #156: 100%|██████████| 120/120 [00:00<00:00, 335.00it/s]\n"
          ]
        },
        {
          "output_type": "stream",
          "name": "stdout",
          "text": [
            "Epoch 156: Avg Loss = 7.2732, Avg Accuracy = 8.81%\n"
          ]
        },
        {
          "output_type": "stream",
          "name": "stderr",
          "text": [
            "Training Epoch #157: 100%|██████████| 120/120 [00:00<00:00, 341.55it/s]\n"
          ]
        },
        {
          "output_type": "stream",
          "name": "stdout",
          "text": [
            "Epoch 157: Avg Loss = 7.2709, Avg Accuracy = 8.80%\n"
          ]
        },
        {
          "output_type": "stream",
          "name": "stderr",
          "text": [
            "Training Epoch #158: 100%|██████████| 120/120 [00:00<00:00, 346.42it/s]\n"
          ]
        },
        {
          "output_type": "stream",
          "name": "stdout",
          "text": [
            "Epoch 158: Avg Loss = 7.2686, Avg Accuracy = 8.84%\n"
          ]
        },
        {
          "output_type": "stream",
          "name": "stderr",
          "text": [
            "Training Epoch #159: 100%|██████████| 120/120 [00:00<00:00, 332.53it/s]\n"
          ]
        },
        {
          "output_type": "stream",
          "name": "stdout",
          "text": [
            "Epoch 159: Avg Loss = 7.2667, Avg Accuracy = 8.82%\n"
          ]
        },
        {
          "output_type": "stream",
          "name": "stderr",
          "text": [
            "Training Epoch #160: 100%|██████████| 120/120 [00:00<00:00, 358.15it/s]\n"
          ]
        },
        {
          "output_type": "stream",
          "name": "stdout",
          "text": [
            "Epoch 160: Avg Loss = 7.2636, Avg Accuracy = 8.80%\n"
          ]
        },
        {
          "output_type": "stream",
          "name": "stderr",
          "text": [
            "Training Epoch #161: 100%|██████████| 120/120 [00:00<00:00, 306.65it/s]\n"
          ]
        },
        {
          "output_type": "stream",
          "name": "stdout",
          "text": [
            "Epoch 161: Avg Loss = 7.2633, Avg Accuracy = 8.80%\n"
          ]
        },
        {
          "output_type": "stream",
          "name": "stderr",
          "text": [
            "Training Epoch #162: 100%|██████████| 120/120 [00:00<00:00, 320.47it/s]\n"
          ]
        },
        {
          "output_type": "stream",
          "name": "stdout",
          "text": [
            "Epoch 162: Avg Loss = 7.2607, Avg Accuracy = 8.83%\n"
          ]
        },
        {
          "output_type": "stream",
          "name": "stderr",
          "text": [
            "Training Epoch #163: 100%|██████████| 120/120 [00:00<00:00, 308.36it/s]\n"
          ]
        },
        {
          "output_type": "stream",
          "name": "stdout",
          "text": [
            "Epoch 163: Avg Loss = 7.2575, Avg Accuracy = 8.84%\n"
          ]
        },
        {
          "output_type": "stream",
          "name": "stderr",
          "text": [
            "Training Epoch #164: 100%|██████████| 120/120 [00:00<00:00, 316.98it/s]\n"
          ]
        },
        {
          "output_type": "stream",
          "name": "stdout",
          "text": [
            "Epoch 164: Avg Loss = 7.2554, Avg Accuracy = 8.82%\n"
          ]
        },
        {
          "output_type": "stream",
          "name": "stderr",
          "text": [
            "Training Epoch #165: 100%|██████████| 120/120 [00:00<00:00, 318.55it/s]\n"
          ]
        },
        {
          "output_type": "stream",
          "name": "stdout",
          "text": [
            "Epoch 165: Avg Loss = 7.2512, Avg Accuracy = 8.82%\n"
          ]
        },
        {
          "output_type": "stream",
          "name": "stderr",
          "text": [
            "Training Epoch #166: 100%|██████████| 120/120 [00:00<00:00, 186.14it/s]\n"
          ]
        },
        {
          "output_type": "stream",
          "name": "stdout",
          "text": [
            "Epoch 166: Avg Loss = 7.2499, Avg Accuracy = 8.83%\n"
          ]
        },
        {
          "output_type": "stream",
          "name": "stderr",
          "text": [
            "Training Epoch #167: 100%|██████████| 120/120 [00:00<00:00, 201.03it/s]\n"
          ]
        },
        {
          "output_type": "stream",
          "name": "stdout",
          "text": [
            "Epoch 167: Avg Loss = 7.2476, Avg Accuracy = 8.84%\n"
          ]
        },
        {
          "output_type": "stream",
          "name": "stderr",
          "text": [
            "Training Epoch #168: 100%|██████████| 120/120 [00:00<00:00, 217.72it/s]\n"
          ]
        },
        {
          "output_type": "stream",
          "name": "stdout",
          "text": [
            "Epoch 168: Avg Loss = 7.2456, Avg Accuracy = 8.80%\n"
          ]
        },
        {
          "output_type": "stream",
          "name": "stderr",
          "text": [
            "Training Epoch #169: 100%|██████████| 120/120 [00:00<00:00, 242.30it/s]\n"
          ]
        },
        {
          "output_type": "stream",
          "name": "stdout",
          "text": [
            "Epoch 169: Avg Loss = 7.2444, Avg Accuracy = 8.84%\n"
          ]
        },
        {
          "output_type": "stream",
          "name": "stderr",
          "text": [
            "Training Epoch #170: 100%|██████████| 120/120 [00:00<00:00, 212.10it/s]\n"
          ]
        },
        {
          "output_type": "stream",
          "name": "stdout",
          "text": [
            "Epoch 170: Avg Loss = 7.2401, Avg Accuracy = 8.80%\n"
          ]
        },
        {
          "output_type": "stream",
          "name": "stderr",
          "text": [
            "Training Epoch #171: 100%|██████████| 120/120 [00:00<00:00, 198.52it/s]\n"
          ]
        },
        {
          "output_type": "stream",
          "name": "stdout",
          "text": [
            "Epoch 171: Avg Loss = 7.2408, Avg Accuracy = 8.82%\n"
          ]
        },
        {
          "output_type": "stream",
          "name": "stderr",
          "text": [
            "Training Epoch #172: 100%|██████████| 120/120 [00:00<00:00, 182.14it/s]\n"
          ]
        },
        {
          "output_type": "stream",
          "name": "stdout",
          "text": [
            "Epoch 172: Avg Loss = 7.2374, Avg Accuracy = 8.82%\n"
          ]
        },
        {
          "output_type": "stream",
          "name": "stderr",
          "text": [
            "Training Epoch #173: 100%|██████████| 120/120 [00:00<00:00, 298.82it/s]\n"
          ]
        },
        {
          "output_type": "stream",
          "name": "stdout",
          "text": [
            "Epoch 173: Avg Loss = 7.2346, Avg Accuracy = 8.84%\n"
          ]
        },
        {
          "output_type": "stream",
          "name": "stderr",
          "text": [
            "Training Epoch #174: 100%|██████████| 120/120 [00:00<00:00, 317.66it/s]\n"
          ]
        },
        {
          "output_type": "stream",
          "name": "stdout",
          "text": [
            "Epoch 174: Avg Loss = 7.2333, Avg Accuracy = 8.83%\n"
          ]
        },
        {
          "output_type": "stream",
          "name": "stderr",
          "text": [
            "Training Epoch #175: 100%|██████████| 120/120 [00:00<00:00, 316.55it/s]\n"
          ]
        },
        {
          "output_type": "stream",
          "name": "stdout",
          "text": [
            "Epoch 175: Avg Loss = 7.2301, Avg Accuracy = 8.82%\n"
          ]
        },
        {
          "output_type": "stream",
          "name": "stderr",
          "text": [
            "Training Epoch #176: 100%|██████████| 120/120 [00:00<00:00, 303.63it/s]\n"
          ]
        },
        {
          "output_type": "stream",
          "name": "stdout",
          "text": [
            "Epoch 176: Avg Loss = 7.2286, Avg Accuracy = 8.85%\n"
          ]
        },
        {
          "output_type": "stream",
          "name": "stderr",
          "text": [
            "Training Epoch #177: 100%|██████████| 120/120 [00:00<00:00, 334.59it/s]\n"
          ]
        },
        {
          "output_type": "stream",
          "name": "stdout",
          "text": [
            "Epoch 177: Avg Loss = 7.2264, Avg Accuracy = 8.80%\n"
          ]
        },
        {
          "output_type": "stream",
          "name": "stderr",
          "text": [
            "Training Epoch #178: 100%|██████████| 120/120 [00:00<00:00, 320.40it/s]\n"
          ]
        },
        {
          "output_type": "stream",
          "name": "stdout",
          "text": [
            "Epoch 178: Avg Loss = 7.2232, Avg Accuracy = 8.82%\n"
          ]
        },
        {
          "output_type": "stream",
          "name": "stderr",
          "text": [
            "Training Epoch #179: 100%|██████████| 120/120 [00:00<00:00, 322.75it/s]\n"
          ]
        },
        {
          "output_type": "stream",
          "name": "stdout",
          "text": [
            "Epoch 179: Avg Loss = 7.2222, Avg Accuracy = 8.81%\n"
          ]
        },
        {
          "output_type": "stream",
          "name": "stderr",
          "text": [
            "Training Epoch #180: 100%|██████████| 120/120 [00:00<00:00, 337.21it/s]\n"
          ]
        },
        {
          "output_type": "stream",
          "name": "stdout",
          "text": [
            "Epoch 180: Avg Loss = 7.2209, Avg Accuracy = 8.80%\n"
          ]
        },
        {
          "output_type": "stream",
          "name": "stderr",
          "text": [
            "Training Epoch #181: 100%|██████████| 120/120 [00:00<00:00, 314.56it/s]\n"
          ]
        },
        {
          "output_type": "stream",
          "name": "stdout",
          "text": [
            "Epoch 181: Avg Loss = 7.2180, Avg Accuracy = 8.82%\n"
          ]
        },
        {
          "output_type": "stream",
          "name": "stderr",
          "text": [
            "Training Epoch #182: 100%|██████████| 120/120 [00:00<00:00, 350.52it/s]\n"
          ]
        },
        {
          "output_type": "stream",
          "name": "stdout",
          "text": [
            "Epoch 182: Avg Loss = 7.2163, Avg Accuracy = 8.80%\n"
          ]
        },
        {
          "output_type": "stream",
          "name": "stderr",
          "text": [
            "Training Epoch #183: 100%|██████████| 120/120 [00:00<00:00, 351.81it/s]\n"
          ]
        },
        {
          "output_type": "stream",
          "name": "stdout",
          "text": [
            "Epoch 183: Avg Loss = 7.2120, Avg Accuracy = 8.82%\n"
          ]
        },
        {
          "output_type": "stream",
          "name": "stderr",
          "text": [
            "Training Epoch #184: 100%|██████████| 120/120 [00:00<00:00, 318.25it/s]\n"
          ]
        },
        {
          "output_type": "stream",
          "name": "stdout",
          "text": [
            "Epoch 184: Avg Loss = 7.2116, Avg Accuracy = 8.79%\n"
          ]
        },
        {
          "output_type": "stream",
          "name": "stderr",
          "text": [
            "Training Epoch #185: 100%|██████████| 120/120 [00:00<00:00, 337.74it/s]\n"
          ]
        },
        {
          "output_type": "stream",
          "name": "stdout",
          "text": [
            "Epoch 185: Avg Loss = 7.2112, Avg Accuracy = 8.81%\n"
          ]
        },
        {
          "output_type": "stream",
          "name": "stderr",
          "text": [
            "Training Epoch #186: 100%|██████████| 120/120 [00:00<00:00, 341.59it/s]\n"
          ]
        },
        {
          "output_type": "stream",
          "name": "stdout",
          "text": [
            "Epoch 186: Avg Loss = 7.2078, Avg Accuracy = 8.82%\n"
          ]
        },
        {
          "output_type": "stream",
          "name": "stderr",
          "text": [
            "Training Epoch #187: 100%|██████████| 120/120 [00:00<00:00, 290.41it/s]\n"
          ]
        },
        {
          "output_type": "stream",
          "name": "stdout",
          "text": [
            "Epoch 187: Avg Loss = 7.2053, Avg Accuracy = 8.83%\n"
          ]
        },
        {
          "output_type": "stream",
          "name": "stderr",
          "text": [
            "Training Epoch #188: 100%|██████████| 120/120 [00:00<00:00, 332.17it/s]\n"
          ]
        },
        {
          "output_type": "stream",
          "name": "stdout",
          "text": [
            "Epoch 188: Avg Loss = 7.2061, Avg Accuracy = 8.84%\n"
          ]
        },
        {
          "output_type": "stream",
          "name": "stderr",
          "text": [
            "Training Epoch #189: 100%|██████████| 120/120 [00:00<00:00, 350.43it/s]\n"
          ]
        },
        {
          "output_type": "stream",
          "name": "stdout",
          "text": [
            "Epoch 189: Avg Loss = 7.2017, Avg Accuracy = 8.78%\n"
          ]
        },
        {
          "output_type": "stream",
          "name": "stderr",
          "text": [
            "Training Epoch #190: 100%|██████████| 120/120 [00:00<00:00, 322.81it/s]\n"
          ]
        },
        {
          "output_type": "stream",
          "name": "stdout",
          "text": [
            "Epoch 190: Avg Loss = 7.1993, Avg Accuracy = 8.83%\n"
          ]
        },
        {
          "output_type": "stream",
          "name": "stderr",
          "text": [
            "Training Epoch #191: 100%|██████████| 120/120 [00:00<00:00, 311.66it/s]\n"
          ]
        },
        {
          "output_type": "stream",
          "name": "stdout",
          "text": [
            "Epoch 191: Avg Loss = 7.1978, Avg Accuracy = 8.80%\n"
          ]
        },
        {
          "output_type": "stream",
          "name": "stderr",
          "text": [
            "Training Epoch #192: 100%|██████████| 120/120 [00:00<00:00, 324.55it/s]\n"
          ]
        },
        {
          "output_type": "stream",
          "name": "stdout",
          "text": [
            "Epoch 192: Avg Loss = 7.1972, Avg Accuracy = 8.79%\n"
          ]
        },
        {
          "output_type": "stream",
          "name": "stderr",
          "text": [
            "Training Epoch #193: 100%|██████████| 120/120 [00:00<00:00, 328.32it/s]\n"
          ]
        },
        {
          "output_type": "stream",
          "name": "stdout",
          "text": [
            "Epoch 193: Avg Loss = 7.1954, Avg Accuracy = 8.84%\n"
          ]
        },
        {
          "output_type": "stream",
          "name": "stderr",
          "text": [
            "Training Epoch #194: 100%|██████████| 120/120 [00:00<00:00, 333.52it/s]\n"
          ]
        },
        {
          "output_type": "stream",
          "name": "stdout",
          "text": [
            "Epoch 194: Avg Loss = 7.1929, Avg Accuracy = 8.78%\n"
          ]
        },
        {
          "output_type": "stream",
          "name": "stderr",
          "text": [
            "Training Epoch #195: 100%|██████████| 120/120 [00:00<00:00, 257.62it/s]\n"
          ]
        },
        {
          "output_type": "stream",
          "name": "stdout",
          "text": [
            "Epoch 195: Avg Loss = 7.1912, Avg Accuracy = 8.83%\n"
          ]
        },
        {
          "output_type": "stream",
          "name": "stderr",
          "text": [
            "Training Epoch #196: 100%|██████████| 120/120 [00:00<00:00, 130.04it/s]\n"
          ]
        },
        {
          "output_type": "stream",
          "name": "stdout",
          "text": [
            "Epoch 196: Avg Loss = 7.1896, Avg Accuracy = 8.76%\n"
          ]
        },
        {
          "output_type": "stream",
          "name": "stderr",
          "text": [
            "Training Epoch #197: 100%|██████████| 120/120 [00:01<00:00, 60.69it/s]\n"
          ]
        },
        {
          "output_type": "stream",
          "name": "stdout",
          "text": [
            "Epoch 197: Avg Loss = 7.1879, Avg Accuracy = 8.79%\n"
          ]
        },
        {
          "output_type": "stream",
          "name": "stderr",
          "text": [
            "Training Epoch #198: 100%|██████████| 120/120 [00:02<00:00, 42.69it/s]\n"
          ]
        },
        {
          "output_type": "stream",
          "name": "stdout",
          "text": [
            "Epoch 198: Avg Loss = 7.1868, Avg Accuracy = 8.80%\n"
          ]
        },
        {
          "output_type": "stream",
          "name": "stderr",
          "text": [
            "Training Epoch #199: 100%|██████████| 120/120 [00:01<00:00, 60.26it/s]\n"
          ]
        },
        {
          "output_type": "stream",
          "name": "stdout",
          "text": [
            "Epoch 199: Avg Loss = 7.1837, Avg Accuracy = 8.78%\n"
          ]
        },
        {
          "output_type": "stream",
          "name": "stderr",
          "text": [
            "Training Epoch #200: 100%|██████████| 120/120 [00:00<00:00, 125.18it/s]"
          ]
        },
        {
          "output_type": "stream",
          "name": "stdout",
          "text": [
            "Epoch 200: Avg Loss = 7.1824, Avg Accuracy = 8.79%\n"
          ]
        },
        {
          "output_type": "stream",
          "name": "stderr",
          "text": [
            "\n"
          ]
        }
      ]
    },
    {
      "cell_type": "code",
      "source": [
        "\n",
        "epochs = range(1, len(br_train_loss) + 1)  # Adjust epochs to match the length of train_loss\n",
        "\n",
        "plt.figure(figsize=(12, 5))\n",
        "plt.subplot(1, 2, 1)\n",
        "plt.plot(epochs, br_train_loss, label='Training Loss', marker='o', color='blue')\n",
        "plt.title('Training Loss Per Epoch')\n",
        "plt.xlabel('Epochs')\n",
        "plt.ylabel('Loss')\n",
        "plt.legend()\n",
        "plt.grid(True)\n",
        "plt.show()\n"
      ],
      "metadata": {
        "colab": {
          "base_uri": "https://localhost:8080/",
          "height": 487
        },
        "id": "suGxf2gnTq1_",
        "outputId": "ff32c471-0b00-440b-9cab-6652f96bdea6"
      },
      "execution_count": 212,
      "outputs": [
        {
          "output_type": "display_data",
          "data": {
            "text/plain": [
              "<Figure size 1200x500 with 1 Axes>"
            ],
            "image/png": "[encoded data removed]"
          },
          "metadata": {}
        }
      ]
    },
    {
      "cell_type": "markdown",
      "source": [
        "### Neural Network (LSTM encoder)"
      ],
      "metadata": {
        "id": "UvjssS93rwCA"
      }
    },
    {
      "cell_type": "code",
      "source": [
        "class Encoder(nn.Module):\n",
        "    def __init__(self, input_dim, hidden_dim, num_layers=1, bidirectional=False):\n",
        "        super(Encoder, self).__init__()\n",
        "        self.lstm = nn.LSTM(input_dim, hidden_dim, num_layers=num_layers, batch_first=True, bidirectional=bidirectional)\n",
        "        self.feature_dim = hidden_dim * 2 if bidirectional else hidden_dim\n",
        "\n",
        "    def forward(self, x):\n",
        "        _, (hidden, _) = self.lstm(x)\n",
        "        # Ensure consistent dimensionality regardless of the batch size\n",
        "        if hidden.dim() == 2:\n",
        "            hidden = hidden.unsqueeze(0)  # Add a batch dimension if it's missing\n",
        "\n",
        "        if self.lstm.bidirectional:\n",
        "            # Concatenate the hidden states from both directions\n",
        "            hidden = torch.cat((hidden[-2], hidden[-1]), dim=1)\n",
        "        else:\n",
        "            # Get the last layer's last direction output\n",
        "            hidden = hidden[-1]\n",
        "\n",
        "        return hidden\n"
      ],
      "metadata": {
        "id": "gVItFaRl6g-x"
      },
      "execution_count": 213,
      "outputs": []
    },
    {
      "cell_type": "code",
      "source": [
        "class Regressor(nn.Module):\n",
        "    def __init__(self, input_dim):\n",
        "        super(Regressor, self).__init__()\n",
        "        self.fc_b1 = nn.Linear(input_dim, 32)\n",
        "        self.fc_b2 = nn.Linear(32, 1)\n",
        "\n",
        "    def forward(self, x):\n",
        "        x = F.relu(self.fc_b1(x))\n",
        "        x = F.relu(self.fc_b2(x))\n",
        "        return x\n"
      ],
      "metadata": {
        "id": "MLInHSTW5Qu3"
      },
      "execution_count": 214,
      "outputs": []
    },
    {
      "cell_type": "code",
      "source": [
        "\n",
        "input_dim = 65  # Input dimensionality\n",
        "hidden_dim = 64  # Hidden state dimensionality\n",
        "\n",
        "# Initialize Encoder\n",
        "encoder = Encoder(input_dim, hidden_dim).to(device)\n",
        "# Initialize Regressor with encoder's feature_dim\n",
        "regressor = Regressor(input_dim=encoder.feature_dim).to(device)\n",
        "\n",
        "# Loss function\n",
        "loss_func = nn.MSELoss()\n",
        "\n",
        "# Optimizer\n",
        "optimizer = optim.SGD(list(encoder.parameters()) + list(regressor.parameters()), lr=0.0001, momentum=0.9, weight_decay=5e-4)\n",
        "\n",
        "num_epochs = 200\n",
        "\n"
      ],
      "metadata": {
        "id": "AH8_fCgM4y3-"
      },
      "execution_count": 215,
      "outputs": []
    },
    {
      "cell_type": "code",
      "source": [
        "def regression_accuracy(output, target, threshold=0.1):\n",
        "    \"\"\" Calculate \"accuracy\" for regression within a certain threshold percentage. \"\"\"\n",
        "    with torch.no_grad():\n",
        "        # Calculate the absolute difference\n",
        "        difference = torch.abs(output - target)\n",
        "        # Check if the difference is within the threshold * target\n",
        "        correct = (difference < threshold * torch.abs(target)).float()\n",
        "        # Calculate accuracy as the mean of correct predictions\n",
        "        accuracy = 100 * correct.mean()\n",
        "    return accuracy.item()\n",
        "\n",
        "# Define threshold percentage for \"correctness\"\n",
        "threshold = 0.1\n",
        "\n",
        "accuracy = regression_accuracy(pred, y0_train, threshold)\n",
        "print(f'Regression Accuracy (within {threshold*100}%): {accuracy:.2f}%')\n"
      ],
      "metadata": {
        "colab": {
          "base_uri": "https://localhost:8080/"
        },
        "id": "HjTDkCrLIEWf",
        "outputId": "16f021ac-14a4-4b50-eb55-98a767056522"
      },
      "execution_count": 216,
      "outputs": [
        {
          "output_type": "stream",
          "name": "stdout",
          "text": [
            "Regression Accuracy (within 10.0%): 8.85%\n"
          ]
        }
      ]
    },
    {
      "cell_type": "code",
      "source": [
        "threshold = 0.1  # Define threshold percentage for \"correctness\"\n",
        "epoch_accuracies = []\n",
        "#training loop\n",
        "train_loss = []\n",
        "for epoch in range(1, num_epochs + 1):\n",
        "    encoder.train()\n",
        "    regressor.train()\n",
        "    epoch_loss_list = []\n",
        "    epoch_accuracy_list = []\n",
        "\n",
        "    for x, y in train_loader_0:\n",
        "        x, y = x.to(device), y.to(device)\n",
        "        optimizer.zero_grad()\n",
        "        embedding = encoder(x)\n",
        "        pred = regressor(embedding)\n",
        "\n",
        "        loss = loss_func(pred, y)\n",
        "        loss.backward()\n",
        "        optimizer.step()\n",
        "\n",
        "        epoch_loss_list.append(loss.item())\n",
        "\n",
        "        # Calculate \"accuracy\" for regression\n",
        "        accuracy = regression_accuracy(pred, y, threshold)\n",
        "        epoch_accuracy_list.append(accuracy)\n",
        "\n",
        "    if len(epoch_loss_list) == 0:\n",
        "        print(\"Warning: No data processed this epoch\")\n",
        "        average_loss = 0\n",
        "        average_accuracy = 0\n",
        "    else:\n",
        "        average_loss = sum(epoch_loss_list) / len(epoch_loss_list)\n",
        "        average_accuracy = sum(epoch_accuracy_list) / len(epoch_accuracy_list)\n",
        "\n",
        "    train_loss.append(average_loss)\n",
        "    epoch_accuracies.append(average_accuracy)\n",
        "\n",
        "    train_loss.append(average_loss)\n",
        "    epoch_accuracies.append(average_accuracy)\n",
        "\n",
        "    print(f'Epoch {epoch}: Avg Loss = {average_loss:.4f}, Avg Accuracy = {average_accuracy:.2f}%')\n"
      ],
      "metadata": {
        "colab": {
          "base_uri": "https://localhost:8080/"
        },
        "id": "b1l1aM97IKbw",
        "outputId": "db6daab6-a31f-44ea-d486-a05b45128035"
      },
      "execution_count": 217,
      "outputs": [
        {
          "output_type": "stream",
          "name": "stderr",
          "text": [
            "/usr/local/lib/python3.10/dist-packages/torch/nn/modules/loss.py:535: UserWarning: Using a target size (torch.Size([128])) that is different to the input size (torch.Size([1, 1])). This will likely lead to incorrect results due to broadcasting. Please ensure they have the same size.\n",
            "  return F.mse_loss(input, target, reduction=self.reduction)\n",
            "/usr/local/lib/python3.10/dist-packages/torch/nn/modules/loss.py:535: UserWarning: Using a target size (torch.Size([127])) that is different to the input size (torch.Size([1, 1])). This will likely lead to incorrect results due to broadcasting. Please ensure they have the same size.\n",
            "  return F.mse_loss(input, target, reduction=self.reduction)\n"
          ]
        },
        {
          "output_type": "stream",
          "name": "stdout",
          "text": [
            "Epoch 1: Avg Loss = 18.0672, Avg Accuracy = 0.55%\n",
            "Epoch 2: Avg Loss = 11.9751, Avg Accuracy = 10.56%\n",
            "Epoch 3: Avg Loss = 8.3941, Avg Accuracy = 9.37%\n",
            "Epoch 4: Avg Loss = 7.9170, Avg Accuracy = 8.47%\n",
            "Epoch 5: Avg Loss = 7.8955, Avg Accuracy = 8.76%\n",
            "Epoch 6: Avg Loss = 7.8958, Avg Accuracy = 8.88%\n",
            "Epoch 7: Avg Loss = 7.8850, Avg Accuracy = 8.89%\n",
            "Epoch 8: Avg Loss = 7.9020, Avg Accuracy = 8.65%\n",
            "Epoch 9: Avg Loss = 7.8914, Avg Accuracy = 8.72%\n",
            "Epoch 10: Avg Loss = 7.8912, Avg Accuracy = 8.91%\n",
            "Epoch 11: Avg Loss = 7.8863, Avg Accuracy = 8.75%\n",
            "Epoch 12: Avg Loss = 7.8899, Avg Accuracy = 8.92%\n",
            "Epoch 13: Avg Loss = 7.8752, Avg Accuracy = 8.81%\n",
            "Epoch 14: Avg Loss = 7.8942, Avg Accuracy = 8.59%\n",
            "Epoch 15: Avg Loss = 7.8937, Avg Accuracy = 8.80%\n",
            "Epoch 16: Avg Loss = 7.8907, Avg Accuracy = 8.80%\n",
            "Epoch 17: Avg Loss = 7.8786, Avg Accuracy = 8.65%\n",
            "Epoch 18: Avg Loss = 7.8832, Avg Accuracy = 8.70%\n",
            "Epoch 19: Avg Loss = 7.8857, Avg Accuracy = 8.92%\n",
            "Epoch 20: Avg Loss = 7.8831, Avg Accuracy = 8.76%\n",
            "Epoch 21: Avg Loss = 7.8765, Avg Accuracy = 8.72%\n",
            "Epoch 22: Avg Loss = 7.8905, Avg Accuracy = 8.59%\n",
            "Epoch 23: Avg Loss = 7.8928, Avg Accuracy = 8.69%\n",
            "Epoch 24: Avg Loss = 7.8824, Avg Accuracy = 8.92%\n",
            "Epoch 25: Avg Loss = 7.8831, Avg Accuracy = 8.83%\n",
            "Epoch 26: Avg Loss = 7.8819, Avg Accuracy = 8.75%\n",
            "Epoch 27: Avg Loss = 7.8805, Avg Accuracy = 8.75%\n",
            "Epoch 28: Avg Loss = 7.8724, Avg Accuracy = 8.76%\n",
            "Epoch 29: Avg Loss = 7.8871, Avg Accuracy = 8.74%\n",
            "Epoch 30: Avg Loss = 7.8855, Avg Accuracy = 8.84%\n",
            "Epoch 31: Avg Loss = 7.8774, Avg Accuracy = 8.76%\n",
            "Epoch 32: Avg Loss = 7.8858, Avg Accuracy = 8.81%\n",
            "Epoch 33: Avg Loss = 7.8763, Avg Accuracy = 8.80%\n",
            "Epoch 34: Avg Loss = 7.8803, Avg Accuracy = 8.81%\n",
            "Epoch 35: Avg Loss = 7.8838, Avg Accuracy = 8.74%\n",
            "Epoch 36: Avg Loss = 7.8683, Avg Accuracy = 8.88%\n",
            "Epoch 37: Avg Loss = 7.8689, Avg Accuracy = 8.87%\n",
            "Epoch 38: Avg Loss = 7.8755, Avg Accuracy = 8.90%\n",
            "Epoch 39: Avg Loss = 7.8773, Avg Accuracy = 8.72%\n",
            "Epoch 40: Avg Loss = 7.8722, Avg Accuracy = 8.70%\n",
            "Epoch 41: Avg Loss = 7.8755, Avg Accuracy = 8.75%\n",
            "Epoch 42: Avg Loss = 7.8817, Avg Accuracy = 8.82%\n",
            "Epoch 43: Avg Loss = 7.8746, Avg Accuracy = 8.82%\n",
            "Epoch 44: Avg Loss = 7.8759, Avg Accuracy = 8.91%\n",
            "Epoch 45: Avg Loss = 7.8742, Avg Accuracy = 8.80%\n",
            "Epoch 46: Avg Loss = 7.8828, Avg Accuracy = 8.82%\n",
            "Epoch 47: Avg Loss = 7.8756, Avg Accuracy = 8.65%\n",
            "Epoch 48: Avg Loss = 7.8749, Avg Accuracy = 8.85%\n",
            "Epoch 49: Avg Loss = 7.8767, Avg Accuracy = 8.57%\n",
            "Epoch 50: Avg Loss = 7.8800, Avg Accuracy = 8.83%\n",
            "Epoch 51: Avg Loss = 7.8760, Avg Accuracy = 8.60%\n",
            "Epoch 52: Avg Loss = 7.8815, Avg Accuracy = 8.81%\n",
            "Epoch 53: Avg Loss = 7.8790, Avg Accuracy = 8.58%\n",
            "Epoch 54: Avg Loss = 7.8721, Avg Accuracy = 8.76%\n",
            "Epoch 55: Avg Loss = 7.8748, Avg Accuracy = 8.74%\n",
            "Epoch 56: Avg Loss = 7.8755, Avg Accuracy = 8.76%\n",
            "Epoch 57: Avg Loss = 7.8763, Avg Accuracy = 8.63%\n",
            "Epoch 58: Avg Loss = 7.8720, Avg Accuracy = 8.64%\n",
            "Epoch 59: Avg Loss = 7.8748, Avg Accuracy = 8.89%\n",
            "Epoch 60: Avg Loss = 7.8722, Avg Accuracy = 8.79%\n",
            "Epoch 61: Avg Loss = 7.8714, Avg Accuracy = 8.70%\n",
            "Epoch 62: Avg Loss = 7.8803, Avg Accuracy = 8.83%\n",
            "Epoch 63: Avg Loss = 7.8719, Avg Accuracy = 8.78%\n",
            "Epoch 64: Avg Loss = 7.8736, Avg Accuracy = 8.67%\n",
            "Epoch 65: Avg Loss = 7.8702, Avg Accuracy = 8.65%\n",
            "Epoch 66: Avg Loss = 7.8733, Avg Accuracy = 8.66%\n",
            "Epoch 67: Avg Loss = 7.8770, Avg Accuracy = 8.79%\n",
            "Epoch 68: Avg Loss = 7.8717, Avg Accuracy = 8.84%\n",
            "Epoch 69: Avg Loss = 7.8748, Avg Accuracy = 8.75%\n",
            "Epoch 70: Avg Loss = 7.8762, Avg Accuracy = 8.57%\n",
            "Epoch 71: Avg Loss = 7.8757, Avg Accuracy = 8.83%\n",
            "Epoch 72: Avg Loss = 7.8735, Avg Accuracy = 8.78%\n",
            "Epoch 73: Avg Loss = 7.8738, Avg Accuracy = 8.77%\n",
            "Epoch 74: Avg Loss = 7.8732, Avg Accuracy = 8.61%\n",
            "Epoch 75: Avg Loss = 7.8718, Avg Accuracy = 8.56%\n",
            "Epoch 76: Avg Loss = 7.8753, Avg Accuracy = 8.92%\n",
            "Epoch 77: Avg Loss = 7.8681, Avg Accuracy = 8.65%\n",
            "Epoch 78: Avg Loss = 7.8741, Avg Accuracy = 8.77%\n",
            "Epoch 79: Avg Loss = 7.8696, Avg Accuracy = 8.87%\n",
            "Epoch 80: Avg Loss = 7.8739, Avg Accuracy = 8.69%\n",
            "Epoch 81: Avg Loss = 7.8754, Avg Accuracy = 8.77%\n",
            "Epoch 82: Avg Loss = 7.8768, Avg Accuracy = 8.72%\n",
            "Epoch 83: Avg Loss = 7.8746, Avg Accuracy = 8.83%\n",
            "Epoch 84: Avg Loss = 7.8813, Avg Accuracy = 8.71%\n",
            "Epoch 85: Avg Loss = 7.8767, Avg Accuracy = 8.89%\n",
            "Epoch 86: Avg Loss = 7.8685, Avg Accuracy = 8.70%\n",
            "Epoch 87: Avg Loss = 7.8752, Avg Accuracy = 8.71%\n",
            "Epoch 88: Avg Loss = 7.8748, Avg Accuracy = 8.69%\n",
            "Epoch 89: Avg Loss = 7.8738, Avg Accuracy = 8.61%\n",
            "Epoch 90: Avg Loss = 7.8714, Avg Accuracy = 8.82%\n",
            "Epoch 91: Avg Loss = 7.8761, Avg Accuracy = 8.69%\n",
            "Epoch 92: Avg Loss = 7.8711, Avg Accuracy = 8.70%\n",
            "Epoch 93: Avg Loss = 7.8706, Avg Accuracy = 8.76%\n",
            "Epoch 94: Avg Loss = 7.8691, Avg Accuracy = 8.59%\n",
            "Epoch 95: Avg Loss = 7.8804, Avg Accuracy = 8.76%\n",
            "Epoch 96: Avg Loss = 7.8722, Avg Accuracy = 8.68%\n",
            "Epoch 97: Avg Loss = 7.8736, Avg Accuracy = 8.68%\n",
            "Epoch 98: Avg Loss = 7.8724, Avg Accuracy = 8.74%\n",
            "Epoch 99: Avg Loss = 7.8734, Avg Accuracy = 8.65%\n",
            "Epoch 100: Avg Loss = 7.8744, Avg Accuracy = 8.80%\n",
            "Epoch 101: Avg Loss = 7.8742, Avg Accuracy = 8.84%\n",
            "Epoch 102: Avg Loss = 7.8663, Avg Accuracy = 8.81%\n",
            "Epoch 103: Avg Loss = 7.8734, Avg Accuracy = 8.77%\n",
            "Epoch 104: Avg Loss = 7.8818, Avg Accuracy = 8.69%\n",
            "Epoch 105: Avg Loss = 7.8719, Avg Accuracy = 8.72%\n",
            "Epoch 106: Avg Loss = 7.8706, Avg Accuracy = 8.61%\n",
            "Epoch 107: Avg Loss = 7.8740, Avg Accuracy = 8.69%\n",
            "Epoch 108: Avg Loss = 7.8716, Avg Accuracy = 8.80%\n",
            "Epoch 109: Avg Loss = 7.8717, Avg Accuracy = 8.74%\n",
            "Epoch 110: Avg Loss = 7.8691, Avg Accuracy = 8.78%\n",
            "Epoch 111: Avg Loss = 7.8723, Avg Accuracy = 8.82%\n",
            "Epoch 112: Avg Loss = 7.8706, Avg Accuracy = 8.67%\n",
            "Epoch 113: Avg Loss = 7.8679, Avg Accuracy = 8.72%\n",
            "Epoch 114: Avg Loss = 7.8742, Avg Accuracy = 8.69%\n",
            "Epoch 115: Avg Loss = 7.8685, Avg Accuracy = 8.70%\n",
            "Epoch 116: Avg Loss = 7.8712, Avg Accuracy = 8.73%\n",
            "Epoch 117: Avg Loss = 7.8683, Avg Accuracy = 8.59%\n",
            "Epoch 118: Avg Loss = 7.8733, Avg Accuracy = 8.65%\n",
            "Epoch 119: Avg Loss = 7.8738, Avg Accuracy = 8.63%\n",
            "Epoch 120: Avg Loss = 7.8755, Avg Accuracy = 8.83%\n",
            "Epoch 121: Avg Loss = 7.8742, Avg Accuracy = 8.74%\n",
            "Epoch 122: Avg Loss = 7.8780, Avg Accuracy = 8.82%\n",
            "Epoch 123: Avg Loss = 7.8753, Avg Accuracy = 8.84%\n",
            "Epoch 124: Avg Loss = 7.8725, Avg Accuracy = 8.85%\n",
            "Epoch 125: Avg Loss = 7.8748, Avg Accuracy = 8.83%\n",
            "Epoch 126: Avg Loss = 7.8725, Avg Accuracy = 8.51%\n",
            "Epoch 127: Avg Loss = 7.8736, Avg Accuracy = 8.80%\n",
            "Epoch 128: Avg Loss = 7.8683, Avg Accuracy = 8.69%\n",
            "Epoch 129: Avg Loss = 7.8727, Avg Accuracy = 8.87%\n",
            "Epoch 130: Avg Loss = 7.8726, Avg Accuracy = 8.67%\n",
            "Epoch 131: Avg Loss = 7.8748, Avg Accuracy = 8.78%\n",
            "Epoch 132: Avg Loss = 7.8719, Avg Accuracy = 8.74%\n",
            "Epoch 133: Avg Loss = 7.8740, Avg Accuracy = 8.73%\n",
            "Epoch 134: Avg Loss = 7.8753, Avg Accuracy = 8.69%\n",
            "Epoch 135: Avg Loss = 7.8657, Avg Accuracy = 8.73%\n",
            "Epoch 136: Avg Loss = 7.8698, Avg Accuracy = 8.80%\n",
            "Epoch 137: Avg Loss = 7.8717, Avg Accuracy = 8.80%\n",
            "Epoch 138: Avg Loss = 7.8767, Avg Accuracy = 8.52%\n",
            "Epoch 139: Avg Loss = 7.8761, Avg Accuracy = 8.69%\n",
            "Epoch 140: Avg Loss = 7.8679, Avg Accuracy = 8.69%\n",
            "Epoch 141: Avg Loss = 7.8742, Avg Accuracy = 8.59%\n",
            "Epoch 142: Avg Loss = 7.8700, Avg Accuracy = 8.95%\n",
            "Epoch 143: Avg Loss = 7.8762, Avg Accuracy = 8.61%\n",
            "Epoch 144: Avg Loss = 7.8762, Avg Accuracy = 8.68%\n",
            "Epoch 145: Avg Loss = 7.8670, Avg Accuracy = 8.82%\n",
            "Epoch 146: Avg Loss = 7.8697, Avg Accuracy = 8.68%\n",
            "Epoch 147: Avg Loss = 7.8715, Avg Accuracy = 8.59%\n",
            "Epoch 148: Avg Loss = 7.8681, Avg Accuracy = 8.65%\n",
            "Epoch 149: Avg Loss = 7.8746, Avg Accuracy = 8.69%\n",
            "Epoch 150: Avg Loss = 7.8700, Avg Accuracy = 8.74%\n",
            "Epoch 151: Avg Loss = 7.8718, Avg Accuracy = 8.71%\n",
            "Epoch 152: Avg Loss = 7.8723, Avg Accuracy = 8.80%\n",
            "Epoch 153: Avg Loss = 7.8723, Avg Accuracy = 8.80%\n",
            "Epoch 154: Avg Loss = 7.8742, Avg Accuracy = 8.81%\n",
            "Epoch 155: Avg Loss = 7.8709, Avg Accuracy = 8.69%\n",
            "Epoch 156: Avg Loss = 7.8698, Avg Accuracy = 8.75%\n",
            "Epoch 157: Avg Loss = 7.8658, Avg Accuracy = 8.72%\n",
            "Epoch 158: Avg Loss = 7.8726, Avg Accuracy = 8.52%\n",
            "Epoch 159: Avg Loss = 7.8689, Avg Accuracy = 8.81%\n",
            "Epoch 160: Avg Loss = 7.8712, Avg Accuracy = 8.68%\n",
            "Epoch 161: Avg Loss = 7.8732, Avg Accuracy = 8.61%\n",
            "Epoch 162: Avg Loss = 7.8727, Avg Accuracy = 8.78%\n",
            "Epoch 163: Avg Loss = 7.8715, Avg Accuracy = 8.65%\n",
            "Epoch 164: Avg Loss = 7.8724, Avg Accuracy = 8.83%\n",
            "Epoch 165: Avg Loss = 7.8713, Avg Accuracy = 8.83%\n",
            "Epoch 166: Avg Loss = 7.8736, Avg Accuracy = 8.76%\n",
            "Epoch 167: Avg Loss = 7.8722, Avg Accuracy = 8.69%\n",
            "Epoch 168: Avg Loss = 7.8726, Avg Accuracy = 8.69%\n",
            "Epoch 169: Avg Loss = 7.8665, Avg Accuracy = 8.85%\n",
            "Epoch 170: Avg Loss = 7.8697, Avg Accuracy = 8.63%\n",
            "Epoch 171: Avg Loss = 7.8713, Avg Accuracy = 8.85%\n",
            "Epoch 172: Avg Loss = 7.8709, Avg Accuracy = 8.78%\n",
            "Epoch 173: Avg Loss = 7.8733, Avg Accuracy = 8.74%\n",
            "Epoch 174: Avg Loss = 7.8696, Avg Accuracy = 8.75%\n",
            "Epoch 175: Avg Loss = 7.8689, Avg Accuracy = 8.69%\n",
            "Epoch 176: Avg Loss = 7.8710, Avg Accuracy = 8.72%\n",
            "Epoch 177: Avg Loss = 7.8743, Avg Accuracy = 8.68%\n",
            "Epoch 178: Avg Loss = 7.8740, Avg Accuracy = 8.70%\n",
            "Epoch 179: Avg Loss = 7.8672, Avg Accuracy = 8.72%\n",
            "Epoch 180: Avg Loss = 7.8710, Avg Accuracy = 8.69%\n",
            "Epoch 181: Avg Loss = 7.8682, Avg Accuracy = 8.80%\n",
            "Epoch 182: Avg Loss = 7.8703, Avg Accuracy = 8.82%\n",
            "Epoch 183: Avg Loss = 7.8734, Avg Accuracy = 8.69%\n",
            "Epoch 184: Avg Loss = 7.8709, Avg Accuracy = 8.76%\n",
            "Epoch 185: Avg Loss = 7.8732, Avg Accuracy = 8.76%\n",
            "Epoch 186: Avg Loss = 7.8715, Avg Accuracy = 8.72%\n",
            "Epoch 187: Avg Loss = 7.8740, Avg Accuracy = 8.68%\n",
            "Epoch 188: Avg Loss = 7.8710, Avg Accuracy = 8.59%\n",
            "Epoch 189: Avg Loss = 7.8705, Avg Accuracy = 8.70%\n",
            "Epoch 190: Avg Loss = 7.8744, Avg Accuracy = 8.79%\n",
            "Epoch 191: Avg Loss = 7.8729, Avg Accuracy = 8.74%\n",
            "Epoch 192: Avg Loss = 7.8737, Avg Accuracy = 8.71%\n",
            "Epoch 193: Avg Loss = 7.8753, Avg Accuracy = 8.77%\n",
            "Epoch 194: Avg Loss = 7.8767, Avg Accuracy = 8.74%\n",
            "Epoch 195: Avg Loss = 7.8689, Avg Accuracy = 8.66%\n",
            "Epoch 196: Avg Loss = 7.8693, Avg Accuracy = 8.86%\n",
            "Epoch 197: Avg Loss = 7.8722, Avg Accuracy = 8.62%\n",
            "Epoch 198: Avg Loss = 7.8689, Avg Accuracy = 8.67%\n",
            "Epoch 199: Avg Loss = 7.8733, Avg Accuracy = 8.65%\n",
            "Epoch 200: Avg Loss = 7.8726, Avg Accuracy = 8.77%\n"
          ]
        }
      ]
    },
    {
      "cell_type": "code",
      "source": [
        "batches_per_epoch = len(train_loader_0)\n",
        "total_batches = num_epochs * batches_per_epoch\n",
        "epochs = range(1, total_batches + 1)\n"
      ],
      "metadata": {
        "id": "roLrMtzWObpv"
      },
      "execution_count": 218,
      "outputs": []
    },
    {
      "cell_type": "code",
      "source": [
        "\n",
        "epochs = range(1, len(train_loss) + 1)  # Adjust epochs to match the length of train_loss\n",
        "\n",
        "plt.figure(figsize=(12, 5))\n",
        "plt.subplot(1, 2, 1)\n",
        "plt.plot(epochs, train_loss, label='Training Loss', marker='o', color='blue')\n",
        "plt.title('Training Loss Per Epoch')\n",
        "plt.xlabel('Epochs')\n",
        "plt.ylabel('Loss')\n",
        "plt.legend()\n",
        "plt.grid(True)\n",
        "plt.show()\n"
      ],
      "metadata": {
        "colab": {
          "base_uri": "https://localhost:8080/",
          "height": 487
        },
        "id": "fyqSABQHOeUM",
        "outputId": "6754a30b-2991-4b17-e663-4ccda07ab65c"
      },
      "execution_count": 219,
      "outputs": [
        {
          "output_type": "display_data",
          "data": {
            "text/plain": [
              "<Figure size 1200x500 with 1 Axes>"
            ],
            "image/png": "[encoded data removed]"
          },
          "metadata": {}
        }
      ]
    },
    {
      "cell_type": "code",
      "source": [
        "\n",
        "test_loss = []\n",
        "test_accuracies = []\n",
        "\n",
        "encoder.eval()\n",
        "regressor.eval()\n",
        "\n",
        "with torch.no_grad():\n",
        "    for x, y in test_loader_0:\n",
        "        x, y = x.to(device), y.to(device)\n",
        "\n",
        "        embedding = encoder(x)\n",
        "        pred = regressor(embedding)\n",
        "\n",
        "        loss = loss_func(pred, y)\n",
        "        test_loss.append(loss.item())\n",
        "\n",
        "        # Calculate \"accuracy\" for regression\n",
        "        accuracy = regression_accuracy(pred, y, threshold)\n",
        "        test_accuracies.append(accuracy)\n",
        "\n",
        "average_test_loss = sum(test_loss) / len(test_loss)\n",
        "average_test_accuracy = sum(test_accuracies) / len(test_accuracies)\n",
        "\n",
        "print(f'Test Results - Average Loss: {average_test_loss:.4f}, Average Accuracy: {average_test_accuracy:.2f}%')\n"
      ],
      "metadata": {
        "colab": {
          "base_uri": "https://localhost:8080/"
        },
        "id": "jw62DM-yKR_2",
        "outputId": "0c71c1c8-8127-4014-f22c-6e8f004e30f6"
      },
      "execution_count": 220,
      "outputs": [
        {
          "output_type": "stream",
          "name": "stdout",
          "text": [
            "Test Results - Average Loss: 7.7049, Average Accuracy: 8.52%\n"
          ]
        }
      ]
    },
    {
      "cell_type": "markdown",
      "source": [
        "###NN combinded (linear+LSTM encoder)\n"
      ],
      "metadata": {
        "id": "1RZs22YUWKzL"
      }
    },
    {
      "cell_type": "code",
      "source": [
        "\n",
        "class CombinedEncoder(nn.Module):\n",
        "    def __init__(self, input_dim, hidden_dim, num_layers=1, bidirectional=False):\n",
        "        super(CombinedEncoder, self).__init__()\n",
        "        # Initialize BaseRegressor and Encoder\n",
        "        self.base_regressor = BaseRegressor()\n",
        "        self.encoder = Encoder(input_dim, hidden_dim, num_layers, bidirectional)\n",
        "        self.final_regressor = nn.Linear(hidden_dim, 1)\n",
        "\n",
        "    def forward(self, x):\n",
        "        output_base = self.base_regressor(x)\n",
        "        output_encoder = self.encoder(x)\n",
        "        summed_output = output_base + output_encoder\n",
        "        final_output = self.final_regressor(summed_output)\n",
        "        return final_output\n"
      ],
      "metadata": {
        "id": "FVY4H7BShDmO"
      },
      "execution_count": 227,
      "outputs": []
    },
    {
      "cell_type": "code",
      "source": [
        "class Regressor(nn.Module):\n",
        "    def __init__(self, input_dim):\n",
        "        super(Regressor, self).__init__()\n",
        "        self.fc_b1 = nn.Linear(input_dim, 32)\n",
        "        self.fc_b2 = nn.Linear(32, 1)\n",
        "\n",
        "    def forward(self, x):\n",
        "        x = F.relu(self.fc_b1(x))\n",
        "        x = self.fc_b2(x) #no activation function here, allowing for unbounded output\n",
        "        return x\n"
      ],
      "metadata": {
        "id": "DKXLWJV1Y8pb"
      },
      "execution_count": 228,
      "outputs": []
    },
    {
      "cell_type": "code",
      "source": [
        "def regression_accuracy(output, target, threshold=0.1):\n",
        "    \"\"\" Calculate \"accuracy\" for regression within a certain threshold percentage. \"\"\"\n",
        "    with torch.no_grad():\n",
        "        # Calculate the absolute difference\n",
        "        difference = torch.abs(output - target)\n",
        "        # Check if the difference is within the threshold * target\n",
        "        correct = (difference < threshold * torch.abs(target)).float()\n",
        "        # Calculate accuracy as the mean of correct predictions\n",
        "        accuracy = 100 * correct.mean()\n",
        "    return accuracy.item()\n",
        "\n",
        "# threshold percentage for \"correctness\"\n",
        "threshold = 0.1\n",
        "\n",
        "accuracy = regression_accuracy(pred, y0_train, threshold)\n",
        "print(f'Regression Accuracy (within {threshold*100}%): {accuracy:.2f}%')\n"
      ],
      "metadata": {
        "colab": {
          "base_uri": "https://localhost:8080/"
        },
        "id": "V4bXxYzJhxHZ",
        "outputId": "aedb1058-7f1d-4a8f-b49f-4eb955a2a480"
      },
      "execution_count": 229,
      "outputs": [
        {
          "output_type": "stream",
          "name": "stdout",
          "text": [
            "Regression Accuracy (within 10.0%): 8.43%\n"
          ]
        }
      ]
    },
    {
      "cell_type": "code",
      "source": [
        "from torch.utils.data import DataLoader, TensorDataset\n",
        "# Device configuration\n",
        "device = torch.device('cuda' if torch.cuda.is_available() else 'cpu')\n",
        "\n",
        "model = CombinedEncoder(input_dim=65, hidden_dim=32, num_layers=1, bidirectional=False)\n",
        "model.to(device)\n",
        "\n",
        "# Loss function and optimizer\n",
        "criterion = nn.MSELoss()\n",
        "optimizer = optim.Adam(model.parameters(), lr=0.00001)\n"
      ],
      "metadata": {
        "id": "UKqEBoniZlDb"
      },
      "execution_count": 230,
      "outputs": []
    },
    {
      "cell_type": "code",
      "source": [
        "\n",
        "from torch.utils.data import DataLoader, TensorDataset, random_split\n",
        "\n",
        "\n",
        "features = np.random.randn(10000, 65)\n",
        "targets = np.random.randn(10000)\n",
        "\n",
        "features_tensor = torch.tensor(features, dtype=torch.float32)\n",
        "targets_tensor = torch.tensor(targets, dtype=torch.float32)\n",
        "\n",
        "dataset = TensorDataset(features_tensor, targets_tensor)\n",
        "\n",
        "\n",
        "total_samples = features_tensor.size(0)\n",
        "test_size = int(total_samples * 0.3)\n",
        "train_size = total_samples - test_size\n",
        "\n",
        "#  random_split to create training and testing datasets\n",
        "train_dataset, test_dataset = random_split(dataset, [train_size, test_size])\n",
        "\n",
        "# Define the DataLoaders for both training and testing sets\n",
        "train_loader = DataLoader(train_dataset, batch_size=64, shuffle=True)\n",
        "test_loader = DataLoader(test_dataset, batch_size=64, shuffle=False)\n",
        "\n"
      ],
      "metadata": {
        "id": "dD4YSd8nqCbj"
      },
      "execution_count": 231,
      "outputs": []
    },
    {
      "cell_type": "code",
      "source": [
        "num_epochs = 200\n",
        "epoch_losses = []\n",
        "for epoch in range(num_epochs):\n",
        "    model.train()\n",
        "    running_loss = 0.0\n",
        "    running_accuracy = 0.0\n",
        "\n",
        "    for inputs, labels in train_loader:\n",
        "        inputs, labels = inputs.to(device), labels.to(device)\n",
        "\n",
        "        optimizer.zero_grad()\n",
        "\n",
        "        outputs = model(inputs)  # Forward pass\n",
        "        loss = criterion(outputs, labels)  # Calculate the loss\n",
        "\n",
        "        loss.backward()  # Backward pass and optimize\n",
        "        optimizer.step()\n",
        "\n",
        "        # Statistics\n",
        "        running_loss += loss.item() * inputs.size(0)\n",
        "        running_accuracy += regression_accuracy(outputs, labels, threshold) * inputs.size(0)\n",
        "\n",
        "    epoch_loss = running_loss / len(train_loader.dataset)\n",
        "    epoch_accuracy = running_accuracy / len(train_loader.dataset)\n",
        "    epoch_losses.append(epoch_loss)  # Append the epoch loss\n",
        "    print(f'Epoch {epoch + 1}/{num_epochs}, Loss: {epoch_loss:.4f}, Accuracy: {epoch_accuracy:.2f}%')\n",
        "\n"
      ],
      "metadata": {
        "colab": {
          "base_uri": "https://localhost:8080/"
        },
        "id": "Xju-M8o8iTty",
        "outputId": "3480a862-2fef-45b4-bf87-8193c4638134"
      },
      "execution_count": 232,
      "outputs": [
        {
          "output_type": "stream",
          "name": "stdout",
          "text": [
            "Epoch 1/200, Loss: 1.0258, Accuracy: 1.03%\n",
            "Epoch 2/200, Loss: 1.0235, Accuracy: 0.98%\n",
            "Epoch 3/200, Loss: 1.0210, Accuracy: 0.93%\n",
            "Epoch 4/200, Loss: 1.0155, Accuracy: 0.96%\n",
            "Epoch 5/200, Loss: 1.0134, Accuracy: 0.87%\n",
            "Epoch 6/200, Loss: 1.0142, Accuracy: 0.87%\n",
            "Epoch 7/200, Loss: 1.0090, Accuracy: 0.80%\n",
            "Epoch 8/200, Loss: 1.0128, Accuracy: 0.75%\n",
            "Epoch 9/200, Loss: 1.0101, Accuracy: 0.88%\n",
            "Epoch 10/200, Loss: 1.0114, Accuracy: 0.77%\n",
            "Epoch 11/200, Loss: 1.0088, Accuracy: 0.79%\n",
            "Epoch 12/200, Loss: 1.0097, Accuracy: 0.84%\n",
            "Epoch 13/200, Loss: 1.0062, Accuracy: 0.77%\n",
            "Epoch 14/200, Loss: 1.0082, Accuracy: 0.74%\n",
            "Epoch 15/200, Loss: 1.0005, Accuracy: 0.65%\n",
            "Epoch 16/200, Loss: 1.0067, Accuracy: 0.69%\n",
            "Epoch 17/200, Loss: 1.0003, Accuracy: 0.69%\n",
            "Epoch 18/200, Loss: 1.0038, Accuracy: 0.56%\n",
            "Epoch 19/200, Loss: 1.0030, Accuracy: 0.65%\n",
            "Epoch 20/200, Loss: 0.9982, Accuracy: 0.83%\n",
            "Epoch 21/200, Loss: 1.0004, Accuracy: 0.55%\n",
            "Epoch 22/200, Loss: 1.0002, Accuracy: 0.74%\n",
            "Epoch 23/200, Loss: 0.9993, Accuracy: 0.69%\n",
            "Epoch 24/200, Loss: 0.9990, Accuracy: 0.57%\n",
            "Epoch 25/200, Loss: 1.0001, Accuracy: 0.69%\n",
            "Epoch 26/200, Loss: 1.0039, Accuracy: 0.62%\n",
            "Epoch 27/200, Loss: 1.0007, Accuracy: 0.60%\n",
            "Epoch 28/200, Loss: 1.0009, Accuracy: 0.70%\n",
            "Epoch 29/200, Loss: 0.9969, Accuracy: 0.63%\n",
            "Epoch 30/200, Loss: 1.0009, Accuracy: 0.69%\n",
            "Epoch 31/200, Loss: 0.9988, Accuracy: 0.63%\n",
            "Epoch 32/200, Loss: 1.0016, Accuracy: 0.65%\n",
            "Epoch 33/200, Loss: 0.9987, Accuracy: 0.64%\n",
            "Epoch 34/200, Loss: 0.9985, Accuracy: 0.61%\n",
            "Epoch 35/200, Loss: 0.9972, Accuracy: 0.55%\n",
            "Epoch 36/200, Loss: 0.9975, Accuracy: 0.70%\n",
            "Epoch 37/200, Loss: 0.9987, Accuracy: 0.59%\n",
            "Epoch 38/200, Loss: 0.9973, Accuracy: 0.50%\n",
            "Epoch 39/200, Loss: 1.0014, Accuracy: 0.53%\n",
            "Epoch 40/200, Loss: 1.0005, Accuracy: 0.60%\n",
            "Epoch 41/200, Loss: 1.0015, Accuracy: 0.63%\n",
            "Epoch 42/200, Loss: 0.9941, Accuracy: 0.53%\n",
            "Epoch 43/200, Loss: 1.0017, Accuracy: 0.55%\n",
            "Epoch 44/200, Loss: 0.9986, Accuracy: 0.46%\n",
            "Epoch 45/200, Loss: 0.9953, Accuracy: 0.49%\n",
            "Epoch 46/200, Loss: 0.9995, Accuracy: 0.49%\n",
            "Epoch 47/200, Loss: 0.9984, Accuracy: 0.51%\n",
            "Epoch 48/200, Loss: 0.9987, Accuracy: 0.45%\n",
            "Epoch 49/200, Loss: 0.9974, Accuracy: 0.63%\n",
            "Epoch 50/200, Loss: 0.9991, Accuracy: 0.66%\n",
            "Epoch 51/200, Loss: 0.9917, Accuracy: 0.51%\n",
            "Epoch 52/200, Loss: 0.9968, Accuracy: 0.47%\n",
            "Epoch 53/200, Loss: 1.0012, Accuracy: 0.67%\n",
            "Epoch 54/200, Loss: 0.9978, Accuracy: 0.42%\n",
            "Epoch 55/200, Loss: 1.0013, Accuracy: 0.68%\n",
            "Epoch 56/200, Loss: 0.9966, Accuracy: 0.45%\n",
            "Epoch 57/200, Loss: 0.9972, Accuracy: 0.52%\n",
            "Epoch 58/200, Loss: 0.9967, Accuracy: 0.46%\n",
            "Epoch 59/200, Loss: 0.9978, Accuracy: 0.41%\n",
            "Epoch 60/200, Loss: 0.9986, Accuracy: 0.54%\n",
            "Epoch 61/200, Loss: 0.9953, Accuracy: 0.53%\n",
            "Epoch 62/200, Loss: 0.9937, Accuracy: 0.58%\n",
            "Epoch 63/200, Loss: 0.9950, Accuracy: 0.63%\n",
            "Epoch 64/200, Loss: 0.9938, Accuracy: 0.50%\n",
            "Epoch 65/200, Loss: 0.9981, Accuracy: 0.54%\n",
            "Epoch 66/200, Loss: 0.9964, Accuracy: 0.50%\n",
            "Epoch 67/200, Loss: 0.9961, Accuracy: 0.59%\n",
            "Epoch 68/200, Loss: 0.9960, Accuracy: 0.61%\n",
            "Epoch 69/200, Loss: 0.9948, Accuracy: 0.48%\n",
            "Epoch 70/200, Loss: 0.9971, Accuracy: 0.52%\n",
            "Epoch 71/200, Loss: 0.9943, Accuracy: 0.54%\n",
            "Epoch 72/200, Loss: 0.9982, Accuracy: 0.63%\n",
            "Epoch 73/200, Loss: 0.9978, Accuracy: 0.46%\n",
            "Epoch 74/200, Loss: 0.9987, Accuracy: 0.56%\n",
            "Epoch 75/200, Loss: 0.9988, Accuracy: 0.55%\n",
            "Epoch 76/200, Loss: 0.9959, Accuracy: 0.54%\n",
            "Epoch 77/200, Loss: 0.9988, Accuracy: 0.51%\n",
            "Epoch 78/200, Loss: 0.9948, Accuracy: 0.62%\n",
            "Epoch 79/200, Loss: 0.9973, Accuracy: 0.45%\n",
            "Epoch 80/200, Loss: 0.9986, Accuracy: 0.53%\n",
            "Epoch 81/200, Loss: 0.9964, Accuracy: 0.40%\n",
            "Epoch 82/200, Loss: 0.9972, Accuracy: 0.55%\n",
            "Epoch 83/200, Loss: 0.9951, Accuracy: 0.46%\n",
            "Epoch 84/200, Loss: 0.9974, Accuracy: 0.53%\n",
            "Epoch 85/200, Loss: 0.9952, Accuracy: 0.57%\n",
            "Epoch 86/200, Loss: 0.9974, Accuracy: 0.49%\n",
            "Epoch 87/200, Loss: 0.9972, Accuracy: 0.45%\n",
            "Epoch 88/200, Loss: 0.9920, Accuracy: 0.47%\n",
            "Epoch 89/200, Loss: 0.9954, Accuracy: 0.50%\n",
            "Epoch 90/200, Loss: 0.9987, Accuracy: 0.46%\n",
            "Epoch 91/200, Loss: 0.9922, Accuracy: 0.45%\n",
            "Epoch 92/200, Loss: 0.9944, Accuracy: 0.60%\n",
            "Epoch 93/200, Loss: 0.9962, Accuracy: 0.44%\n",
            "Epoch 94/200, Loss: 0.9951, Accuracy: 0.52%\n",
            "Epoch 95/200, Loss: 0.9976, Accuracy: 0.39%\n",
            "Epoch 96/200, Loss: 0.9957, Accuracy: 0.46%\n",
            "Epoch 97/200, Loss: 0.9929, Accuracy: 0.38%\n",
            "Epoch 98/200, Loss: 0.9950, Accuracy: 0.40%\n",
            "Epoch 99/200, Loss: 0.9943, Accuracy: 0.47%\n",
            "Epoch 100/200, Loss: 0.9954, Accuracy: 0.62%\n",
            "Epoch 101/200, Loss: 0.9965, Accuracy: 0.61%\n",
            "Epoch 102/200, Loss: 0.9963, Accuracy: 0.53%\n",
            "Epoch 103/200, Loss: 0.9963, Accuracy: 0.45%\n",
            "Epoch 104/200, Loss: 0.9931, Accuracy: 0.38%\n",
            "Epoch 105/200, Loss: 0.9946, Accuracy: 0.39%\n",
            "Epoch 106/200, Loss: 0.9938, Accuracy: 0.49%\n",
            "Epoch 107/200, Loss: 0.9968, Accuracy: 0.41%\n",
            "Epoch 108/200, Loss: 0.9956, Accuracy: 0.36%\n",
            "Epoch 109/200, Loss: 0.9926, Accuracy: 0.54%\n",
            "Epoch 110/200, Loss: 0.9956, Accuracy: 0.50%\n",
            "Epoch 111/200, Loss: 0.9948, Accuracy: 0.55%\n",
            "Epoch 112/200, Loss: 0.9955, Accuracy: 0.44%\n",
            "Epoch 113/200, Loss: 0.9980, Accuracy: 0.47%\n",
            "Epoch 114/200, Loss: 0.9965, Accuracy: 0.39%\n",
            "Epoch 115/200, Loss: 0.9945, Accuracy: 0.55%\n",
            "Epoch 116/200, Loss: 0.9935, Accuracy: 0.46%\n",
            "Epoch 117/200, Loss: 0.9948, Accuracy: 0.36%\n",
            "Epoch 118/200, Loss: 0.9962, Accuracy: 0.47%\n",
            "Epoch 119/200, Loss: 0.9977, Accuracy: 0.46%\n",
            "Epoch 120/200, Loss: 0.9962, Accuracy: 0.56%\n",
            "Epoch 121/200, Loss: 1.0007, Accuracy: 0.46%\n",
            "Epoch 122/200, Loss: 0.9960, Accuracy: 0.47%\n",
            "Epoch 123/200, Loss: 0.9951, Accuracy: 0.48%\n",
            "Epoch 124/200, Loss: 0.9952, Accuracy: 0.46%\n",
            "Epoch 125/200, Loss: 0.9963, Accuracy: 0.56%\n",
            "Epoch 126/200, Loss: 0.9939, Accuracy: 0.47%\n",
            "Epoch 127/200, Loss: 0.9955, Accuracy: 0.39%\n",
            "Epoch 128/200, Loss: 0.9963, Accuracy: 0.44%\n",
            "Epoch 129/200, Loss: 0.9950, Accuracy: 0.43%\n",
            "Epoch 130/200, Loss: 0.9957, Accuracy: 0.44%\n",
            "Epoch 131/200, Loss: 0.9962, Accuracy: 0.46%\n",
            "Epoch 132/200, Loss: 0.9953, Accuracy: 0.37%\n",
            "Epoch 133/200, Loss: 0.9962, Accuracy: 0.39%\n",
            "Epoch 134/200, Loss: 0.9958, Accuracy: 0.32%\n",
            "Epoch 135/200, Loss: 0.9962, Accuracy: 0.50%\n",
            "Epoch 136/200, Loss: 0.9964, Accuracy: 0.58%\n",
            "Epoch 137/200, Loss: 0.9938, Accuracy: 0.48%\n",
            "Epoch 138/200, Loss: 0.9939, Accuracy: 0.37%\n",
            "Epoch 139/200, Loss: 0.9973, Accuracy: 0.32%\n",
            "Epoch 140/200, Loss: 0.9941, Accuracy: 0.47%\n",
            "Epoch 141/200, Loss: 0.9974, Accuracy: 0.54%\n",
            "Epoch 142/200, Loss: 0.9940, Accuracy: 0.51%\n",
            "Epoch 143/200, Loss: 0.9922, Accuracy: 0.30%\n",
            "Epoch 144/200, Loss: 0.9943, Accuracy: 0.43%\n",
            "Epoch 145/200, Loss: 0.9958, Accuracy: 0.40%\n",
            "Epoch 146/200, Loss: 0.9950, Accuracy: 0.37%\n",
            "Epoch 147/200, Loss: 0.9943, Accuracy: 0.38%\n",
            "Epoch 148/200, Loss: 0.9948, Accuracy: 0.52%\n",
            "Epoch 149/200, Loss: 0.9904, Accuracy: 0.38%\n",
            "Epoch 150/200, Loss: 0.9966, Accuracy: 0.58%\n",
            "Epoch 151/200, Loss: 0.9937, Accuracy: 0.46%\n",
            "Epoch 152/200, Loss: 0.9936, Accuracy: 0.47%\n",
            "Epoch 153/200, Loss: 0.9940, Accuracy: 0.42%\n",
            "Epoch 154/200, Loss: 0.9923, Accuracy: 0.43%\n",
            "Epoch 155/200, Loss: 0.9938, Accuracy: 0.36%\n",
            "Epoch 156/200, Loss: 0.9921, Accuracy: 0.41%\n",
            "Epoch 157/200, Loss: 0.9939, Accuracy: 0.33%\n",
            "Epoch 158/200, Loss: 0.9967, Accuracy: 0.46%\n",
            "Epoch 159/200, Loss: 0.9929, Accuracy: 0.29%\n",
            "Epoch 160/200, Loss: 0.9947, Accuracy: 0.36%\n",
            "Epoch 161/200, Loss: 0.9963, Accuracy: 0.42%\n",
            "Epoch 162/200, Loss: 0.9954, Accuracy: 0.39%\n",
            "Epoch 163/200, Loss: 0.9962, Accuracy: 0.43%\n",
            "Epoch 164/200, Loss: 0.9962, Accuracy: 0.44%\n",
            "Epoch 165/200, Loss: 0.9952, Accuracy: 0.46%\n",
            "Epoch 166/200, Loss: 0.9967, Accuracy: 0.32%\n",
            "Epoch 167/200, Loss: 0.9952, Accuracy: 0.37%\n",
            "Epoch 168/200, Loss: 0.9932, Accuracy: 0.27%\n",
            "Epoch 169/200, Loss: 0.9934, Accuracy: 0.27%\n",
            "Epoch 170/200, Loss: 0.9951, Accuracy: 0.50%\n",
            "Epoch 171/200, Loss: 0.9953, Accuracy: 0.41%\n",
            "Epoch 172/200, Loss: 0.9948, Accuracy: 0.30%\n",
            "Epoch 173/200, Loss: 0.9951, Accuracy: 0.47%\n",
            "Epoch 174/200, Loss: 0.9945, Accuracy: 0.29%\n",
            "Epoch 175/200, Loss: 0.9934, Accuracy: 0.33%\n",
            "Epoch 176/200, Loss: 0.9933, Accuracy: 0.36%\n",
            "Epoch 177/200, Loss: 0.9936, Accuracy: 0.41%\n",
            "Epoch 178/200, Loss: 0.9951, Accuracy: 0.36%\n",
            "Epoch 179/200, Loss: 0.9942, Accuracy: 0.28%\n",
            "Epoch 180/200, Loss: 0.9934, Accuracy: 0.31%\n",
            "Epoch 181/200, Loss: 0.9916, Accuracy: 0.43%\n",
            "Epoch 182/200, Loss: 0.9947, Accuracy: 0.31%\n",
            "Epoch 183/200, Loss: 0.9958, Accuracy: 0.37%\n",
            "Epoch 184/200, Loss: 0.9947, Accuracy: 0.39%\n",
            "Epoch 185/200, Loss: 0.9953, Accuracy: 0.54%\n",
            "Epoch 186/200, Loss: 0.9926, Accuracy: 0.44%\n",
            "Epoch 187/200, Loss: 0.9945, Accuracy: 0.28%\n",
            "Epoch 188/200, Loss: 0.9947, Accuracy: 0.44%\n",
            "Epoch 189/200, Loss: 0.9962, Accuracy: 0.44%\n",
            "Epoch 190/200, Loss: 0.9939, Accuracy: 0.41%\n",
            "Epoch 191/200, Loss: 0.9945, Accuracy: 0.33%\n",
            "Epoch 192/200, Loss: 0.9930, Accuracy: 0.40%\n",
            "Epoch 193/200, Loss: 0.9960, Accuracy: 0.30%\n",
            "Epoch 194/200, Loss: 0.9907, Accuracy: 0.38%\n",
            "Epoch 195/200, Loss: 0.9941, Accuracy: 0.32%\n",
            "Epoch 196/200, Loss: 0.9967, Accuracy: 0.24%\n",
            "Epoch 197/200, Loss: 0.9956, Accuracy: 0.43%\n",
            "Epoch 198/200, Loss: 0.9951, Accuracy: 0.44%\n",
            "Epoch 199/200, Loss: 0.9933, Accuracy: 0.27%\n",
            "Epoch 200/200, Loss: 0.9926, Accuracy: 0.44%\n"
          ]
        }
      ]
    },
    {
      "cell_type": "code",
      "source": [
        "model.eval()\n",
        "test_loss = 0.0\n",
        "test_accuracy = 0.0\n",
        "\n",
        "with torch.no_grad():\n",
        "    for inputs, labels in test_loader:\n",
        "        inputs, labels = inputs.to(device), labels.to(device)\n",
        "\n",
        "        outputs = model(inputs)  # Forward pass\n",
        "        loss = criterion(outputs, labels)  # Calculate the loss\n",
        "\n",
        "\n",
        "        test_loss += loss.item() * inputs.size(0)\n",
        "        test_accuracy += regression_accuracy(outputs, labels, threshold) * inputs.size(0)\n",
        "\n",
        "# Calculate average loss and accuracy over the testing dataset\n",
        "test_loss /= len(test_loader.dataset)\n",
        "test_accuracy /= len(test_loader.dataset)\n",
        "\n",
        "print(f'Test Loss: {test_loss:.4f}, Test Accuracy: {test_accuracy:.2f}%')\n"
      ],
      "metadata": {
        "colab": {
          "base_uri": "https://localhost:8080/"
        },
        "id": "jI32b_tlo3sl",
        "outputId": "2e65e948-314b-4d69-b38e-9209803debf7"
      },
      "execution_count": 233,
      "outputs": [
        {
          "output_type": "stream",
          "name": "stdout",
          "text": [
            "Test Loss: 1.0428, Test Accuracy: 0.33%\n"
          ]
        }
      ]
    },
    {
      "cell_type": "code",
      "source": [
        "plt.figure(figsize=(10, 5))\n",
        "plt.plot(range(1, num_epochs + 1), epoch_losses, marker='o', linestyle='-', color='b', label='Training Loss')\n",
        "plt.xlabel('Epoch')\n",
        "plt.ylabel('Loss')\n",
        "plt.title('Training Loss Over Epochs')\n",
        "plt.legend()\n",
        "plt.grid(True)\n",
        "plt.show()\n"
      ],
      "metadata": {
        "colab": {
          "base_uri": "https://localhost:8080/",
          "height": 487
        },
        "id": "ky-m0eb6sJAM",
        "outputId": "293b691b-dbc2-4a94-aa4f-9834bc86eb69"
      },
      "execution_count": 234,
      "outputs": [
        {
          "output_type": "display_data",
          "data": {
            "text/plain": [
              "<Figure size 1000x500 with 1 Axes>"
            ],
            "image/png": "[encoded data removed]"
          },
          "metadata": {}
        }
      ]
    }
  ],
  "metadata": {
    "colab": {
      "provenance": [],
      "toc_visible": true
    },
    "kernelspec": {
      "display_name": "Python 3",
      "name": "python3"
    },
    "language_info": {
      "codemirror_mode": {
        "name": "ipython",
        "version": 3
      },
      "file_extension": ".py",
      "mimetype": "text/x-python",
      "name": "python",
      "nbconvert_exporter": "python",
      "pygments_lexer": "ipython3",
      "version": "3.10.13"
    }
  },
  "nbformat": 4,
  "nbformat_minor": 0
}